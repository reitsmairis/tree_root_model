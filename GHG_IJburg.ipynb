{
 "cells": [
  {
   "cell_type": "code",
   "execution_count": 2,
   "metadata": {},
   "outputs": [],
   "source": [
    "import os\n",
    "import numpy as np\n",
    "from GHG_calculator import create_points\n"
   ]
  },
  {
   "cell_type": "code",
   "execution_count": 5,
   "metadata": {},
   "outputs": [],
   "source": [
    "import matplotlib.pyplot as plt"
   ]
  },
  {
   "cell_type": "code",
   "execution_count": 43,
   "metadata": {},
   "outputs": [],
   "source": [
    "path = 'grondwater/IJburg' # path to groundwater measurements\n",
    "\n",
    "# determine GHG values\n",
    "files = os.listdir(path)\n",
    "points = create_points(files, path)\n",
    "\n",
    "# np.save('grondwater/GHG_values_Sarphati', points) # path to GHG value output"
   ]
  },
  {
   "cell_type": "code",
   "execution_count": 44,
   "metadata": {},
   "outputs": [
    {
     "name": "stdout",
     "output_type": "stream",
     "text": [
      "[['127867' '485890' '0.422280701754386']\n",
      " ['128499' '485465' '-0.12833333333333333']\n",
      " ['128291' '485533' '0.31444444444444447']\n",
      " ['128446' '485487' '0.04939393939393939']\n",
      " ['128146' '485751' '0.22566666666666668']\n",
      " ['127809' '486310' '-0.05333333333333333']\n",
      " ['127337' '485856' '-0.04766666666666667']\n",
      " ['127105' '486133' '-0.014000000000000002']\n",
      " ['128747' '485224' '0.10121212121212121']\n",
      " ['129179' '484827' '-0.15833333333333333']\n",
      " ['129266' '484900' '0.39222222222222225']\n",
      " ['129379' '484786' '0.4696296296296296']\n",
      " ['129474' '484630' '0.40185185185185185']]\n"
     ]
    }
   ],
   "source": [
    "print(points)"
   ]
  },
  {
   "cell_type": "code",
   "execution_count": 45,
   "metadata": {},
   "outputs": [
    {
     "name": "stdout",
     "output_type": "stream",
     "text": [
      "[[128267.0, 486290.0, '0.422280701754386'], [127467.0, 485490.0, '0.422280701754386'], [128899.0, 485865.0, '-0.12833333333333333'], [128099.0, 485065.0, '-0.12833333333333333'], [128691.0, 485933.0, '0.31444444444444447'], [127891.0, 485133.0, '0.31444444444444447'], [128846.0, 485887.0, '0.04939393939393939'], [128046.0, 485087.0, '0.04939393939393939'], [128546.0, 486151.0, '0.22566666666666668'], [127746.0, 485351.0, '0.22566666666666668'], [128209.0, 486710.0, '-0.05333333333333333'], [127409.0, 485910.0, '-0.05333333333333333'], [127737.0, 486256.0, '-0.04766666666666667'], [126937.0, 485456.0, '-0.04766666666666667'], [127505.0, 486533.0, '-0.014000000000000002'], [126705.0, 485733.0, '-0.014000000000000002'], [129147.0, 485624.0, '0.10121212121212121'], [128347.0, 484824.0, '0.10121212121212121'], [129579.0, 485227.0, '-0.15833333333333333'], [128779.0, 484427.0, '-0.15833333333333333'], [129666.0, 485300.0, '0.39222222222222225'], [128866.0, 484500.0, '0.39222222222222225'], [129779.0, 485186.0, '0.4696296296296296'], [128979.0, 484386.0, '0.4696296296296296'], [129874.0, 485030.0, '0.40185185185185185'], [129074.0, 484230.0, '0.40185185185185185']]\n"
     ]
    },
    {
     "data": {
      "image/png": "[encoded data removed]",
      "text/plain": [
       "<Figure size 432x288 with 1 Axes>"
      ]
     },
     "metadata": {
      "needs_background": "light"
     },
     "output_type": "display_data"
    }
   ],
   "source": [
    "x_values = []\n",
    "y_values = []\n",
    "extra_points = []\n",
    "for n, i in enumerate(points):\n",
    "    x = float(i[0])\n",
    "    y = float(i[1])\n",
    "    x_values.append(x)\n",
    "    y_values.append(y)\n",
    "    \n",
    "    ghg = i[2]\n",
    "    x_extra_plus = x + 400\n",
    "    x_extra_min = x - 400\n",
    "    y_extra_plus = y + 400\n",
    "    y_extra_min = y - 400\n",
    "    extra_points.append([x_extra_plus, y_extra_plus, ghg])\n",
    "    extra_points.append([x_extra_min, y_extra_min, ghg])\n",
    "\n",
    "plt.scatter(np.array(x_values), np.array(y_values))\n",
    "print(extra_points)"
   ]
  },
  {
   "cell_type": "code",
   "execution_count": 46,
   "metadata": {},
   "outputs": [
    {
     "name": "stdout",
     "output_type": "stream",
     "text": [
      "[['128267.0' '486290.0' '0.422280701754386']\n",
      " ['127467.0' '485490.0' '0.422280701754386']\n",
      " ['128899.0' '485865.0' '-0.12833333333333333']\n",
      " ['128099.0' '485065.0' '-0.12833333333333333']\n",
      " ['128691.0' '485933.0' '0.31444444444444447']\n",
      " ['127891.0' '485133.0' '0.31444444444444447']\n",
      " ['128846.0' '485887.0' '0.04939393939393939']\n",
      " ['128046.0' '485087.0' '0.04939393939393939']\n",
      " ['128546.0' '486151.0' '0.22566666666666668']\n",
      " ['127746.0' '485351.0' '0.22566666666666668']\n",
      " ['128209.0' '486710.0' '-0.05333333333333333']\n",
      " ['127409.0' '485910.0' '-0.05333333333333333']\n",
      " ['127737.0' '486256.0' '-0.04766666666666667']\n",
      " ['126937.0' '485456.0' '-0.04766666666666667']\n",
      " ['127505.0' '486533.0' '-0.014000000000000002']\n",
      " ['126705.0' '485733.0' '-0.014000000000000002']\n",
      " ['129147.0' '485624.0' '0.10121212121212121']\n",
      " ['128347.0' '484824.0' '0.10121212121212121']\n",
      " ['129579.0' '485227.0' '-0.15833333333333333']\n",
      " ['128779.0' '484427.0' '-0.15833333333333333']\n",
      " ['129666.0' '485300.0' '0.39222222222222225']\n",
      " ['128866.0' '484500.0' '0.39222222222222225']\n",
      " ['129779.0' '485186.0' '0.4696296296296296']\n",
      " ['128979.0' '484386.0' '0.4696296296296296']\n",
      " ['129874.0' '485030.0' '0.40185185185185185']\n",
      " ['129074.0' '484230.0' '0.40185185185185185']]\n",
      "[['127867' '485890' '0.422280701754386']\n",
      " ['128499' '485465' '-0.12833333333333333']\n",
      " ['128291' '485533' '0.31444444444444447']\n",
      " ['128446' '485487' '0.04939393939393939']\n",
      " ['128146' '485751' '0.22566666666666668']\n",
      " ['127809' '486310' '-0.05333333333333333']\n",
      " ['127337' '485856' '-0.04766666666666667']\n",
      " ['127105' '486133' '-0.014000000000000002']\n",
      " ['128747' '485224' '0.10121212121212121']\n",
      " ['129179' '484827' '-0.15833333333333333']\n",
      " ['129266' '484900' '0.39222222222222225']\n",
      " ['129379' '484786' '0.4696296296296296']\n",
      " ['129474' '484630' '0.40185185185185185']]\n",
      "[['127867' '485890' '0.422280701754386']\n",
      " ['128499' '485465' '-0.12833333333333333']\n",
      " ['128291' '485533' '0.31444444444444447']\n",
      " ['128446' '485487' '0.04939393939393939']\n",
      " ['128146' '485751' '0.22566666666666668']\n",
      " ['127809' '486310' '-0.05333333333333333']\n",
      " ['127337' '485856' '-0.04766666666666667']\n",
      " ['127105' '486133' '-0.014000000000000002']\n",
      " ['128747' '485224' '0.10121212121212121']\n",
      " ['129179' '484827' '-0.15833333333333333']\n",
      " ['129266' '484900' '0.39222222222222225']\n",
      " ['129379' '484786' '0.4696296296296296']\n",
      " ['129474' '484630' '0.40185185185185185']\n",
      " ['128267.0' '486290.0' '0.422280701754386']\n",
      " ['127467.0' '485490.0' '0.422280701754386']\n",
      " ['128899.0' '485865.0' '-0.12833333333333333']\n",
      " ['128099.0' '485065.0' '-0.12833333333333333']\n",
      " ['128691.0' '485933.0' '0.31444444444444447']\n",
      " ['127891.0' '485133.0' '0.31444444444444447']\n",
      " ['128846.0' '485887.0' '0.04939393939393939']\n",
      " ['128046.0' '485087.0' '0.04939393939393939']\n",
      " ['128546.0' '486151.0' '0.22566666666666668']\n",
      " ['127746.0' '485351.0' '0.22566666666666668']\n",
      " ['128209.0' '486710.0' '-0.05333333333333333']\n",
      " ['127409.0' '485910.0' '-0.05333333333333333']\n",
      " ['127737.0' '486256.0' '-0.04766666666666667']\n",
      " ['126937.0' '485456.0' '-0.04766666666666667']\n",
      " ['127505.0' '486533.0' '-0.014000000000000002']\n",
      " ['126705.0' '485733.0' '-0.014000000000000002']\n",
      " ['129147.0' '485624.0' '0.10121212121212121']\n",
      " ['128347.0' '484824.0' '0.10121212121212121']\n",
      " ['129579.0' '485227.0' '-0.15833333333333333']\n",
      " ['128779.0' '484427.0' '-0.15833333333333333']\n",
      " ['129666.0' '485300.0' '0.39222222222222225']\n",
      " ['128866.0' '484500.0' '0.39222222222222225']\n",
      " ['129779.0' '485186.0' '0.4696296296296296']\n",
      " ['128979.0' '484386.0' '0.4696296296296296']\n",
      " ['129874.0' '485030.0' '0.40185185185185185']\n",
      " ['129074.0' '484230.0' '0.40185185185185185']]\n"
     ]
    }
   ],
   "source": [
    "print(np.array(extra_points))\n",
    "print(points)\n",
    "new_points = np.vstack((points, np.array(extra_points)))\n",
    "print(new_points)"
   ]
  },
  {
   "cell_type": "code",
   "execution_count": 48,
   "metadata": {},
   "outputs": [],
   "source": [
    "np.save('grondwater/GHG_values_IJburg', new_points) "
   ]
  }
 ],
 "metadata": {
  "kernelspec": {
   "display_name": "Python 3",
   "language": "python",
   "name": "python3"
  },
  "language_info": {
   "codemirror_mode": {
    "name": "ipython",
    "version": 3
   },
   "file_extension": ".py",
   "mimetype": "text/x-python",
   "name": "python",
   "nbconvert_exporter": "python",
   "pygments_lexer": "ipython3",
   "version": "3.8.5"
  }
 },
 "nbformat": 4,
 "nbformat_minor": 4
}
