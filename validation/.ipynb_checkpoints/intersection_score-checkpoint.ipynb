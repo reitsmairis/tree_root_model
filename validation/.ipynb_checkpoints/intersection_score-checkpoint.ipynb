{
 "cells": [
  {
   "cell_type": "code",
   "execution_count": null,
   "metadata": {},
   "outputs": [],
   "source": [
    "import json\n",
    "import numpy as np\n",
    "import pandas as pd\n",
    "import matplotlib.pyplot as plt\n",
    "from bgt_reader import get_properties, WMTS_calculator, bgt_classifier\n",
    "from helpers import wgs_to_rd\n",
    "from matplotlib import cm\n",
    "import shapefile as shp  "
   ]
  },
  {
   "cell_type": "markdown",
   "metadata": {},
   "source": [
    "### This code counts how many cylinder vertices intersect with area not meant for plant growth"
   ]
  },
  {
   "cell_type": "code",
   "execution_count": null,
   "metadata": {},
   "outputs": [],
   "source": [
    "def check_bgt(points):\n",
    "    functions = ['berm']\n",
    "    appearances = ['groenvoorziening', 'loofbos', 'onverhard', 'zand']\n",
    "    count = 0\n",
    "    \n",
    "    # loop through points\n",
    "    for p in points:\n",
    "        \n",
    "        # get point location\n",
    "        x, y = p[0], p[1]\n",
    "\n",
    "        # read out bgt\n",
    "        col, row, i, j = WMTS_calculator(x, y)\n",
    "        try:\n",
    "            properties = get_properties(col, row, i, j)\n",
    "#             print(properties)\n",
    "        except:\n",
    "            return None\n",
    "            \n",
    "        # check function of bgt\n",
    "        if 'functie' in properties:\n",
    "            function = properties['functie']\n",
    "            \n",
    "            # check if function overlaps\n",
    "            if function in functions:\n",
    "                if function != 'berm':\n",
    "                    continue\n",
    "                \n",
    "        # check for appearance\n",
    "        if 'fysiek_voorkomen' in properties:\n",
    "            appearance_bgt = properties['fysiek_voorkomen']\n",
    "            \n",
    "            if appearance_bgt in appearances: \n",
    "                continue\n",
    "        \n",
    "        count += 1\n",
    "#         # building is also obstacle\n",
    "#         if 'bag_pnd' in properties:\n",
    "#             count += 1\n",
    "#             continue\n",
    "        \n",
    "\n",
    "    return count\n",
    "\n"
   ]
  },
  {
   "cell_type": "code",
   "execution_count": null,
   "metadata": {},
   "outputs": [],
   "source": [
    "def intersection(jsonObject, df):\n",
    "    \n",
    "    roots = jsonObject['CityObjects']\n",
    "    vertices = jsonObject['vertices']\n",
    "    ids = roots.keys()\n",
    "    v = 15\n",
    "\n",
    "    x_list = []\n",
    "    y_list = []\n",
    "    count_list = []\n",
    "    color_list = []\n",
    "    number_list = []\n",
    "    viridis = cm.get_cmap('viridis', v)\n",
    "\n",
    "    for n, i in enumerate(ids):\n",
    "        lb = n*2*v\n",
    "        ub = n*2*v+v\n",
    "        points = vertices[lb:ub]\n",
    "        tree_number = i[3:9]\n",
    "        if tree_number == 'objNR_':\n",
    "            continue\n",
    "            \n",
    "        # match tree with gemeente data to find location of center\n",
    "        try:\n",
    "            tree_index = df.index[df['Boomnummer'] == float(tree_number)][0]\n",
    "        except:\n",
    "            continue\n",
    "            \n",
    "        # count intersections with bgt functions\n",
    "        count = check_bgt(points)\n",
    "        if not count:\n",
    "            continue\n",
    "        count_list.append(count/v)\n",
    "        color = viridis(count/v)\n",
    "        color_list.append(color)\n",
    "        print(tree_number, count)\n",
    "\n",
    "\n",
    "        lng = df.at[tree_index, 'LNG']\n",
    "        lat = df.at[tree_index, 'LAT']\n",
    "        rd_x, rd_y = wgs_to_rd(lat, lng)\n",
    "        x_list.append(rd_x)\n",
    "        y_list.append(rd_y)\n",
    "        number_list.append(tree_number)\n",
    "    \n",
    "    return x_list, y_list, count_list, color_list, number_list\n"
   ]
  },
  {
   "cell_type": "code",
   "execution_count": null,
   "metadata": {},
   "outputs": [],
   "source": [
    "treedata = 'data/sarphati_trees.csv'\n",
    "df = pd.read_csv(treedata)\n",
    "area = 'Sarphati'"
   ]
  },
  {
   "cell_type": "code",
   "execution_count": null,
   "metadata": {},
   "outputs": [],
   "source": [
    "path_treedict = 'output/Sarphati/treedict/marginal/2020/json_mar.city.json'\n",
    "\n",
    "with open(path_treedict) as jsonFile:\n",
    "    jsonObject_treedict = json.load(jsonFile)\n",
    "    jsonFile.close()\n",
    "    "
   ]
  },
  {
   "cell_type": "code",
   "execution_count": null,
   "metadata": {},
   "outputs": [],
   "source": [
    "x_list_treedict, y_list_treedict, count_list_treedict, color_list_treedict, number_list_treedict = intersection(jsonObject_treedict, df)"
   ]
  },
  {
   "cell_type": "code",
   "execution_count": null,
   "metadata": {},
   "outputs": [],
   "source": [
    "\n",
    "df_treedict = pd.DataFrame(list(zip(x_list_treedict, y_list_treedict, count_list_treedict, color_list_treedict, number_list_treedict)),\n",
    "               columns =['rdx', 'rdy', 'count', 'color', 'number'])\n",
    "display(df_treedict.head())\n",
    "\n",
    "df_treedict.to_csv(r\"C:\\Users\\Iris Reitsma\\Documents\\Master\\jaar 2\\stage\\validatie\\{}_2020_treedict.csv\".format(area))"
   ]
  },
  {
   "cell_type": "code",
   "execution_count": null,
   "metadata": {},
   "outputs": [],
   "source": [
    "path_static = 'output/Sarphati/static/marginal/2020/json_mar.city.json'\n",
    "\n",
    "with open(path_static) as jsonFile:\n",
    "    jsonObject_static = json.load(jsonFile)\n",
    "    jsonFile.close()\n",
    "    \n",
    "x_list_static, y_list_static, count_list_static, color_list_static, number_list_static = intersection(jsonObject_static, df)"
   ]
  },
  {
   "cell_type": "code",
   "execution_count": null,
   "metadata": {},
   "outputs": [],
   "source": [
    "\n",
    "\n",
    "df_static = pd.DataFrame(list(zip(x_list_static, y_list_static, count_list_static, color_list_static, number_list_static)),\n",
    "               columns =['rdx', 'rdy', 'count', 'color', 'number'])\n",
    "display(df_static.head())\n",
    "\n",
    "df_static.to_csv(r\"C:\\Users\\Iris Reitsma\\Documents\\Master\\jaar 2\\stage\\validatie\\{}_2020_static.csv\".format(area))\n"
   ]
  },
  {
   "cell_type": "code",
   "execution_count": null,
   "metadata": {},
   "outputs": [],
   "source": [
    "path_treegrowth = 'output/Sarphati/treegrowth/marginal/2020/json_mar.city.json'\n",
    "\n",
    "with open(path_treegrowth) as jsonFile:\n",
    "    jsonObject_treegrowth = json.load(jsonFile)\n",
    "    jsonFile.close()\n",
    "    \n",
    "x_list_treegrowth, y_list_treegrowth, count_list_treegrowth, color_list_treegrowth, number_list_treegrowth = intersection(jsonObject_treegrowth, df)"
   ]
  },
  {
   "cell_type": "code",
   "execution_count": null,
   "metadata": {},
   "outputs": [],
   "source": [
    "\n",
    "\n",
    "df_treegrowth = pd.DataFrame(list(zip(x_list_treegrowth, y_list_treegrowth, count_list_treegrowth, color_list_treegrowth, number_list_treegrowth)),\n",
    "               columns =['rdx', 'rdy', 'count', 'color', 'number'])\n",
    "display(df_treegrowth.head())\n",
    "\n",
    "\n",
    "df_treegrowth.to_csv(r\"C:\\Users\\Iris Reitsma\\Documents\\Master\\jaar 2\\stage\\validatie\\{}_2020_treegrowth.csv\".format(area))"
   ]
  },
  {
   "cell_type": "code",
   "execution_count": null,
   "metadata": {},
   "outputs": [],
   "source": [
    "\n"
   ]
  },
  {
   "cell_type": "markdown",
   "metadata": {},
   "source": [
    "## Meldingen SIA"
   ]
  },
  {
   "cell_type": "code",
   "execution_count": null,
   "metadata": {},
   "outputs": [],
   "source": [
    "sia_path =  r'C:\\Users\\Iris Reitsma\\Documents\\Master\\jaar 2\\stage\\validatie\\Meldingen\\Meldingen_IJburg.xlsx'\n",
    "sia_df = pd.read_excel(sia_path)\n",
    "display(sia_df)"
   ]
  },
  {
   "cell_type": "code",
   "execution_count": null,
   "metadata": {},
   "outputs": [],
   "source": [
    "sia_x = []\n",
    "sia_y = []\n",
    "for index, row in sia_df.iterrows():\n",
    "    lat = row['LATITUDE']\n",
    "    lng = row['LONGITUDE']\n",
    "    if type(lat)==str:\n",
    "        print(float(lat.replace(',', '.')),lng)\n",
    "        lat = float(lat.replace(',', '.'))\n",
    "    rd_x, rd_y = wgs_to_rd(lat, lng)\n",
    "    sia_x.append(rd_x)\n",
    "    sia_y.append(rd_y)\n",
    "plt.scatter(sia_x, sia_y, c='Black', marker='x', s=500) \n",
    "# plt.scatter(x_list, y_list, c=color_list)\n",
    "plt.colorbar()\n",
    "# plt.xlim(121550, 121850)\n",
    "# plt.ylim(486700, 487050)"
   ]
  },
  {
   "cell_type": "code",
   "execution_count": null,
   "metadata": {},
   "outputs": [],
   "source": [
    "df_kh = pd.read_csv(r\"C:\\Users\\Iris Reitsma\\Documents\\Master\\jaar 2\\stage\\validatie\\Verhardingen\\kunststof_halfverh_boom.csv\")\n",
    "df_ab = pd.read_csv(r\"C:\\Users\\Iris Reitsma\\Documents\\Master\\jaar 2\\stage\\validatie\\Verhardingen\\asfalt_beton_boom.csv\")\n",
    "df_tot = pd.concat([df_kh, df_ab], axis=0)\n",
    "\n",
    "weg_x = []\n",
    "weg_y = []\n",
    "for index, row in df_tot.iterrows():\n",
    "    rd_x = row['X']\n",
    "    rd_y = row['Y']\n",
    "    weg_x.append(rd_x)\n",
    "    weg_y.append(rd_y)\n",
    "plt.scatter(weg_x, weg_y, c='Black', marker='x', s=500) \n"
   ]
  },
  {
   "cell_type": "markdown",
   "metadata": {},
   "source": [
    "## Meldingen weginspecteurs"
   ]
  },
  {
   "cell_type": "code",
   "execution_count": null,
   "metadata": {},
   "outputs": [],
   "source": [
    "df_kh = pd.read_csv(r\"C:\\Users\\Iris Reitsma\\Documents\\Master\\jaar 2\\stage\\validatie\\Verhardingen\\kunststof_halfverh_boom.csv\")\n",
    "df_ab = pd.read_csv(r\"C:\\Users\\Iris Reitsma\\Documents\\Master\\jaar 2\\stage\\validatie\\Verhardingen\\asfalt_beton_boom.csv\")\n",
    "df_tot = pd.concat([df_kh, df_ab], axis=0)"
   ]
  },
  {
   "cell_type": "code",
   "execution_count": null,
   "metadata": {},
   "outputs": [],
   "source": [
    "sf = shp.Reader(r\"C:\\Users\\Iris Reitsma\\Documents\\Master\\jaar 2\\stage\\validatie\\Verhardingen\\Planning2021_v2_boomwortelopdruk.dbf\")\n",
    "\n",
    "plt.figure()\n",
    "for shape in sf.shapeRecords():\n",
    "    x = [i[0] for i in shape.shape.points[:]]\n",
    "    y = [i[1] for i in shape.shape.points[:]] \n",
    "    try:\n",
    "        weight = shape.record['CROW_ONEFF'][0]\n",
    "    except:\n",
    "        continue\n",
    "    if weight == 'E':\n",
    "        color='Black'\n",
    "    elif weight == 'M':\n",
    "        color='Blue'\n",
    "    elif weight == 'L':\n",
    "        color='Purple'\n",
    "    else:\n",
    "        continue\n",
    "    plt.plot(x, y, zorder=-1, color=color)\n",
    "plt.xlim(121550, 121850)\n",
    "plt.ylim(486700, 487050)\n",
    "plt.show()\n"
   ]
  },
  {
   "cell_type": "code",
   "execution_count": null,
   "metadata": {},
   "outputs": [],
   "source": [
    "sf = shp.Reader(r\"C:\\Users\\Iris Reitsma\\Documents\\Master\\jaar 2\\stage\\validatie\\Verhardingen\\Planning2021_v2_boomwortelopdruk.dbf\")\n",
    "\n",
    "\n",
    "fig, axs = plt.subplots(2, 2, sharex=True, sharey=True, figsize=(8,8))\n",
    "axs[1, 0].scatter(x_list_treedict, y_list_treedict, c=color_list_treedict)\n",
    "axs[1, 0].set_title('treedict')\n",
    "axs[1, 0].set_ylabel('RD y (m)')\n",
    "axs[1, 0].set_xlabel('RD x (m)')\n",
    "\n",
    "axs[0, 1].scatter(x_list_static, y_list_static, c=color_list_static)\n",
    "axs[0, 1].set_title('static')\n",
    "\n",
    "axs[1, 1].scatter(x_list_treegrowth, y_list_treegrowth, c=color_list_treegrowth)\n",
    "axs[1, 1].set_title('treegrowth')\n",
    "axs[1, 1].set_xlabel('RD x (m)')\n",
    "\n",
    "for shape in sf.shapeRecords():\n",
    "    x = [i[0] for i in shape.shape.points[:]]\n",
    "    y = [i[1] for i in shape.shape.points[:]] \n",
    "    try:\n",
    "        weight = shape.record['CROW_ONEFF'][0]\n",
    "    except:\n",
    "        continue\n",
    "    if weight == 'E':\n",
    "        color='Black'\n",
    "    elif weight == 'M':\n",
    "        color='Blue'\n",
    "    elif weight == 'L':\n",
    "        color='Purple'\n",
    "    else:\n",
    "        continue\n",
    "#     axs[1, 1].plot(x, y, zorder=-1, color=color)\n",
    "    axs[0, 0].plot(x, y, zorder=-1, color=color)\n",
    "#     axs[0, 1].plot(x, y, zorder=-1, color=color)\n",
    "#     axs[1, 0].plot(x, y, zorder=-1, color=color)\n",
    "# plt.xlim(121550, 121850)\n",
    "# plt.ylim(486700, 487050)\n",
    "plt.xlim(128500, 129500)\n",
    "plt.ylim(484500, 485250)\n",
    "axs[0, 0].set_title('shapefiles')\n",
    "axs[0, 0].set_ylabel('RD y (m)')\n",
    "axs[0, 0].scatter(weg_x, weg_y, c='Black', marker='x', s=500) \n",
    "axs[0, 0].scatter(sia_x, sia_y, c='Blue', marker='x', s=500) \n",
    "axs[1, 1].scatter(weg_x, weg_y, c='Black', marker='x', s=500) \n",
    "axs[0, 1].scatter(weg_x, weg_y, c='Black', marker='x', s=500) \n",
    "axs[1, 0].scatter(weg_x, weg_y, c='Black', marker='x', s=500) \n",
    "plt.tight_layout()\n",
    "fig.autofmt_xdate()\n",
    "plt.show()"
   ]
  },
  {
   "cell_type": "code",
   "execution_count": null,
   "metadata": {},
   "outputs": [],
   "source": [
    "plt.scatter(x_list_static, y_list_static, c=color_list_static)"
   ]
  },
  {
   "cell_type": "code",
   "execution_count": null,
   "metadata": {},
   "outputs": [],
   "source": [
    "# def plotfunc(df_static, df_treedict, df_treegrowth, sia_x, sia_y, xlim, ylim):\n",
    "#     fig, axs = plt.subplots(2, 2, sharex=True, sharey=True, figsize=(8,8))\n",
    "    \n",
    "#     df_treedict.plot(kind='scatter', x='rdx', y='rdy', c='count', colormap='viridis', ax=axs[1,0])\n",
    "#     axs[1,0].set_title('treedict')\n",
    "#     axs[1,0].set_ylabel('RD y (m)')\n",
    "#     axs[1,0].set_xlabel('RD x (m)')\n",
    "    \n",
    "#     df_static.plot(kind='scatter', x='rdx', y='rdy', c='count', colormap='viridis', ax=axs[0,1])\n",
    "#     axs[0,1].set_title('static')\n",
    "\n",
    "#     df_treegrowth.plot(kind='scatter', x='rdx', y='rdy', c='count', colormap='viridis', ax=axs[1,1])\n",
    "#     axs[1,1].set_title('treegrowth')\n",
    "#     axs[1,1].set_xlabel('RD x (m)')\n",
    "\n",
    "#     for shape in wegen_shapes.shapeRecords():\n",
    "#         x = [i[0] for i in shape.shape.points[:]]\n",
    "#         y = [i[1] for i in shape.shape.points[:]] \n",
    "#         try:\n",
    "#             weight = shape.record['CROW_ONEFF'][0]\n",
    "#         except:\n",
    "#             continue\n",
    "#         if weight == 'E':\n",
    "#             color='Black'\n",
    "#         elif weight == 'M':\n",
    "#             color='Blue'\n",
    "#         elif weight == 'L':\n",
    "#             color='Purple'\n",
    "#         else:\n",
    "#             continue\n",
    "# #         axs[0, 0].plot(x, y, zorder=-1, color=color)\n",
    "\n",
    "# #     axs[0, 0].set_title('shapefiles')\n",
    "# #     axs[0, 0].set_ylabel('RD y (m)')\n",
    "# #     axs[0, 0].scatter(weg_x, weg_y, c='Black', marker='x', s=500) \n",
    "# #     axs[0, 0].scatter(sia_x, sia_y, c='Blue', marker='x', s=500) \n",
    "    \n",
    "#     plt.xlim(xlim[0], xlim[1])\n",
    "#     plt.ylim(ylim[0], ylim[1])\n",
    "#     plt.tight_layout()\n",
    "#     fig.autofmt_xdate()\n",
    "#     plt.show()"
   ]
  }
 ],
 "metadata": {
  "kernelspec": {
   "display_name": "Python 3",
   "language": "python",
   "name": "python3"
  },
  "language_info": {
   "codemirror_mode": {
    "name": "ipython",
    "version": 3
   },
   "file_extension": ".py",
   "mimetype": "text/x-python",
   "name": "python",
   "nbconvert_exporter": "python",
   "pygments_lexer": "ipython3",
   "version": "3.8.5"
  }
 },
 "nbformat": 4,
 "nbformat_minor": 4
}
