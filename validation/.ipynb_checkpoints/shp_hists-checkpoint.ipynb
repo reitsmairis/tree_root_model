{
 "cells": [
  {
   "cell_type": "code",
   "execution_count": null,
   "metadata": {},
   "outputs": [],
   "source": [
    "import json\n",
    "import numpy as np\n",
    "import pandas as pd\n",
    "import matplotlib.pyplot as plt\n",
    "from matplotlib import cm\n",
    "from matplotlib.patches import Patch\n",
    "from matplotlib.lines import Line2D"
   ]
  },
  {
   "cell_type": "markdown",
   "metadata": {},
   "source": [
    "### This code creates histograms of the intersection scores corresponding to cylinders that can be related to root damage"
   ]
  },
  {
   "cell_type": "code",
   "execution_count": null,
   "metadata": {},
   "outputs": [],
   "source": [
    "def plotfunc(df_static, df_treedict, df_treegrowth, static_points, treedict_points, treegrowth_points, xlim, area):\n",
    "    dim = 1/30\n",
    "    bins = np.linspace(0-dim, 1+dim, 17)\n",
    "    print(bins)\n",
    "    print(len(bins))\n",
    "    fig, axs = plt.subplots(1, 3, sharex=True, sharey=True, figsize=(10,3))\n",
    "    \n",
    "    axs[1].hist(df_treedict['count'], bins=bins, stacked=True, color='black')\n",
    "    axs[1].set_title('tree dictionary')\n",
    "    axs[1].set_xlabel('intersection score', fontsize=14)\n",
    "\n",
    "    axs[0].hist(df_static['count'], bins=bins, stacked=True, color='black')\n",
    "    axs[0].set_ylabel('frequency', fontsize=14)\n",
    "    axs[0].set_title('static')\n",
    "    axs[0].set_xlabel('intersection score', fontsize=14)\n",
    "    \n",
    "    axs[2].hist(df_treegrowth['count'], bins=bins, stacked=True, color='black')\n",
    "    axs[2].set_title('tree growth')\n",
    "    axs[2].set_xlabel('intersection score', fontsize=14)\n",
    "\n",
    "    plt.xlim(xlim[0], xlim[1])\n",
    "    \n",
    "#     legend_elements = [Patch(facecolor='black', edgecolor='black', label='shapefiles'),\n",
    "#                     Patch(facecolor='blue', edgecolor='blue', label='points')\n",
    "#                     ]\n",
    "#     axs[0].legend(handles=legend_elements, loc='upper left')\n",
    "\n",
    "    plt.tight_layout()\n",
    "#     fig.autofmt_xdate()\n",
    "    plt.savefig('plots/hists_{}'.format(area), dpi=300)\n",
    "    plt.show()"
   ]
  },
  {
   "cell_type": "code",
   "execution_count": null,
   "metadata": {},
   "outputs": [],
   "source": [
    "def plotfunc_points(df_static, df_treedict, df_treegrowth, static_points, treedict_points, treegrowth_points, xlim, area):\n",
    "    dim = 1/30\n",
    "    bins = np.linspace(0-dim, 1+dim, 16)\n",
    "    print(bins)\n",
    "    fig, axs = plt.subplots(1, 3, sharex=True, sharey=True, figsize=(10,3))\n",
    "    \n",
    "    axs[1].hist(treedict_points, bins=bins, stacked=True, color='blue')\n",
    "    axs[1].set_title('tree dictionary')\n",
    "    axs[1].set_xlabel('intersection score', fontsize=14)\n",
    "\n",
    "    axs[0].hist(static_points, bins=bins, stacked=True, color='blue')\n",
    "    axs[0].set_ylabel('frequency', fontsize=14)\n",
    "    axs[0].set_title('static')\n",
    "    axs[0].set_xlabel('intersection score', fontsize=14)\n",
    "    \n",
    "    axs[2].hist(treegrowth_points, bins=bins, stacked=True, color='blue')\n",
    "    axs[2].set_title('tree growth')\n",
    "    axs[2].set_xlabel('intersection score', fontsize=14)\n",
    "\n",
    "    plt.xlim(xlim[0], xlim[1])\n",
    "    \n",
    "#     legend_elements = [Patch(facecolor='black', edgecolor='black', label='shapefiles'),\n",
    "#                     Patch(facecolor='blue', edgecolor='blue', label='points')\n",
    "#                     ]\n",
    "#     axs[0].legend(handles=legend_elements, loc='upper left')\n",
    "\n",
    "    plt.tight_layout()\n",
    "#     fig.autofmt_xdate()\n",
    "    plt.savefig('plots/hists_points_{}'.format(area), dpi=300)\n",
    "    plt.show()"
   ]
  },
  {
   "cell_type": "code",
   "execution_count": null,
   "metadata": {},
   "outputs": [],
   "source": [
    "# def plotfunc(df_static, df_treedict, df_treegrowth, static_points, treedict_points, treegrowth_points, xlim):\n",
    "#     dim = 1/30\n",
    "#     bins = np.linspace(0-dim, 1+dim, 16)\n",
    "#     print(bins)\n",
    "#     fig, axs = plt.subplots(2, 2, sharex=True, sharey=True, figsize=(10,10))\n",
    "\n",
    "#     axs[0,0].axis('off')\n",
    "    \n",
    "#     axs[1, 0].hist([df_treedict['count'], treedict_points], bins=bins, stacked=True, color=['black', 'blue'])\n",
    "#     axs[1, 0].set_title('tree dictionary')\n",
    "#     axs[1, 0].set_ylabel('frequency', fontsize=14)\n",
    "#     axs[1, 0].set_xlabel('intersection score', fontsize=14)\n",
    "\n",
    "#     axs[0, 1].hist([df_static['count'], static_points], bins=bins, stacked=True, color=['black', 'blue'])\n",
    "#     axs[0, 1].set_ylabel('frequency', fontsize=14)\n",
    "#     axs[0, 1].set_title('static')\n",
    "\n",
    "#     axs[1, 1].hist([df_treegrowth['count'], treegrowth_points], bins=bins, stacked=True, color=['black', 'blue'])\n",
    "#     axs[1, 1].set_title('tree growth')\n",
    "#     axs[1, 1].set_xlabel('intersection score', fontsize=14)\n",
    "\n",
    "#     plt.xlim(xlim[0], xlim[1])\n",
    "    \n",
    "#     legend_elements = [Patch(facecolor='black', edgecolor='black', label='shapefile inspection'),\n",
    "#                     Patch(facecolor='blue', edgecolor='blue', label='point inspection')\n",
    "#                     ]\n",
    "#     axs[0,0].legend(handles=legend_elements, loc='center')\n",
    "\n",
    "# #     plt.tight_layout()\n",
    "# #     fig.autofmt_xdate()\n",
    "#     plt.show()"
   ]
  },
  {
   "cell_type": "markdown",
   "metadata": {},
   "source": [
    "# Wallengebied"
   ]
  },
  {
   "cell_type": "code",
   "execution_count": null,
   "metadata": {},
   "outputs": [],
   "source": [
    "# retrieve static method shapefile results and merge on id\n",
    "df_wallen_static = pd.read_csv(r\"C:\\Users\\Iris Reitsma\\Documents\\Master\\jaar 2\\stage\\validatie\\wallengebied_2020_static.csv\")\n",
    "df_wallen_static_pol = pd.read_csv(r\"C:\\Users\\Iris Reitsma\\Documents\\Master\\jaar 2\\stage\\validatie\\wallen_static_polygonen.csv\")\n",
    "display(df_wallen_static_pol)\n",
    "id_wallen_static_pol = []\n",
    "for i, row in df_wallen_static_pol.iterrows():\n",
    "    number = row['uid'][3:9]\n",
    "    id_wallen_static_pol.append(int(number))\n",
    "df_wallen_static_pol_2 = df_wallen_static[df_wallen_static['number'].isin(id_wallen_static_pol)]"
   ]
  },
  {
   "cell_type": "code",
   "execution_count": null,
   "metadata": {},
   "outputs": [],
   "source": [
    "# retrieve treedict method shapefile results and merge on id\n",
    "df_wallen_treedict = pd.read_csv(r\"C:\\Users\\Iris Reitsma\\Documents\\Master\\jaar 2\\stage\\validatie\\wallengebied_2020_treedict.csv\")\n",
    "df_wallen_treedict_pol = pd.read_csv(r\"C:\\Users\\Iris Reitsma\\Documents\\Master\\jaar 2\\stage\\validatie\\wallen_treedict_polygonen.csv\")\n",
    "id_wallen_treedict_pol = []\n",
    "for i, row in df_wallen_treedict_pol.iterrows():\n",
    "    number = row['uid'][3:9]\n",
    "    id_wallen_treedict_pol.append(int(number))\n",
    "df_wallen_treedict_pol_2 = df_wallen_treedict[df_wallen_treedict['number'].isin(id_wallen_treedict_pol)]"
   ]
  },
  {
   "cell_type": "code",
   "execution_count": null,
   "metadata": {},
   "outputs": [],
   "source": [
    "# retrieve treegrowth method shapefile results and merge on id\n",
    "df_wallen_treegrowth = pd.read_csv(r\"C:\\Users\\Iris Reitsma\\Documents\\Master\\jaar 2\\stage\\validatie\\wallengebied_2020_treegrowth.csv\")\n",
    "df_wallen_treegrowth_pol = pd.read_csv(r\"C:\\Users\\Iris Reitsma\\Documents\\Master\\jaar 2\\stage\\validatie\\wallen_treegrowth_polygonen.csv\")\n",
    "id_wallen_treegrowth_pol = []\n",
    "for i, row in df_wallen_treegrowth_pol.iterrows():\n",
    "    number = row['uid'][3:9]\n",
    "    id_wallen_treegrowth_pol.append(int(number))\n",
    "df_wallen_treegrowth_pol_2 = df_wallen_treegrowth[df_wallen_treegrowth['number'].isin(id_wallen_treegrowth_pol)]"
   ]
  },
  {
   "cell_type": "code",
   "execution_count": null,
   "metadata": {},
   "outputs": [],
   "source": [
    "# retrieve results from point intersection\n",
    "wallen_static_points = np.load(r\"C:\\Users\\Iris Reitsma\\Documents\\Master\\jaar 2\\stage\\validatie\\wallen_static_punten.npy\")\n",
    "wallen_treedict_points = np.load(r\"C:\\Users\\Iris Reitsma\\Documents\\Master\\jaar 2\\stage\\validatie\\wallen_treedict_punten.npy\")\n",
    "wallen_treegrowth_points = np.load(r\"C:\\Users\\Iris Reitsma\\Documents\\Master\\jaar 2\\stage\\validatie\\wallen_treegrowth_punten.npy\")"
   ]
  },
  {
   "cell_type": "code",
   "execution_count": null,
   "metadata": {},
   "outputs": [],
   "source": [
    "xlim = (0.2-1/30, 1+1/30)\n",
    "area = 'wallen'\n",
    "plotfunc(df_wallen_static_pol_2 , df_wallen_treedict_pol_2 , df_wallen_treegrowth_pol_2, wallen_static_points, wallen_treedict_points, wallen_treegrowth_points, xlim, area)\n",
    "plotfunc_points(df_wallen_static_pol_2 , df_wallen_treedict_pol_2 , df_wallen_treegrowth_pol_2, wallen_static_points, wallen_treedict_points, wallen_treegrowth_points, xlim, area)"
   ]
  },
  {
   "cell_type": "markdown",
   "metadata": {},
   "source": [
    "# IJburg"
   ]
  },
  {
   "cell_type": "code",
   "execution_count": null,
   "metadata": {},
   "outputs": [],
   "source": [
    "# retrieve static method shapefile results and merge on id\n",
    "df_ijburg_static = pd.read_csv(r\"C:\\Users\\Iris Reitsma\\Documents\\Master\\jaar 2\\stage\\validatie\\ijburg_2020_static.csv\")\n",
    "df_ijburg_static_pol = pd.read_csv(r\"C:\\Users\\Iris Reitsma\\Documents\\Master\\jaar 2\\stage\\validatie\\ijburg_static_polygonen.csv\")\n",
    "id_ijburg_static_pol = []\n",
    "for i, row in df_ijburg_static_pol.iterrows():\n",
    "    number = row['uid'][3:9]\n",
    "    id_ijburg_static_pol.append(int(number))\n",
    "df_ijburg_static_pol_2 = df_ijburg_static[df_ijburg_static['number'].isin(id_ijburg_static_pol)]\n",
    "\n",
    "# retrieve treedict method shapefile results and merge on id\n",
    "df_ijburg_treedict = pd.read_csv(r\"C:\\Users\\Iris Reitsma\\Documents\\Master\\jaar 2\\stage\\validatie\\ijburg_2020_treedict.csv\")\n",
    "df_ijburg_treedict_pol = pd.read_csv(r\"C:\\Users\\Iris Reitsma\\Documents\\Master\\jaar 2\\stage\\validatie\\ijburg_treedict_polygonen.csv\")\n",
    "id_ijburg_treedict_pol = []\n",
    "for i, row in df_ijburg_treedict_pol.iterrows():\n",
    "    number = row['uid'][3:9]\n",
    "    id_ijburg_treedict_pol.append(int(number))\n",
    "df_ijburg_treedict_pol_2 = df_ijburg_treedict[df_ijburg_treedict['number'].isin(id_ijburg_treedict_pol)]\n",
    "\n",
    "# retrieve treegrowth method shapefile results and merge on id\n",
    "df_ijburg_treegrowth = pd.read_csv(r\"C:\\Users\\Iris Reitsma\\Documents\\Master\\jaar 2\\stage\\validatie\\ijburg_2020_treegrowth.csv\")\n",
    "df_ijburg_treegrowth_pol = pd.read_csv(r\"C:\\Users\\Iris Reitsma\\Documents\\Master\\jaar 2\\stage\\validatie\\ijburg_treegrowth_polygonen.csv\")\n",
    "id_ijburg_treegrowth_pol = []\n",
    "for i, row in df_ijburg_treegrowth_pol.iterrows():\n",
    "    number = row['uid'][3:9]\n",
    "    id_ijburg_treegrowth_pol.append(int(number))\n",
    "df_ijburg_treegrowth_pol_2 = df_ijburg_treegrowth[df_ijburg_treegrowth['number'].isin(id_ijburg_treegrowth_pol)]"
   ]
  },
  {
   "cell_type": "code",
   "execution_count": null,
   "metadata": {},
   "outputs": [],
   "source": [
    "# retrieve results from point intersection\n",
    "ijburg_static_points = np.load(r\"C:\\Users\\Iris Reitsma\\Documents\\Master\\jaar 2\\stage\\validatie\\ijburg_static_punten.npy\")\n",
    "ijburg_treedict_points = np.load(r\"C:\\Users\\Iris Reitsma\\Documents\\Master\\jaar 2\\stage\\validatie\\ijburg_treedict_punten.npy\")\n",
    "ijburg_treegrowth_points = np.load(r\"C:\\Users\\Iris Reitsma\\Documents\\Master\\jaar 2\\stage\\validatie\\ijburg_treegrowth_punten.npy\")\n"
   ]
  },
  {
   "cell_type": "code",
   "execution_count": null,
   "metadata": {},
   "outputs": [],
   "source": [
    "xlim = (0.2-1/30, 1+1/30)\n",
    "area = 'ijburg'\n",
    "plotfunc(df_ijburg_static_pol_2 , df_ijburg_treedict_pol_2 , df_ijburg_treegrowth_pol_2, ijburg_static_points, ijburg_treedict_points, ijburg_treegrowth_points, xlim, area)\n",
    "plotfunc_points(df_ijburg_static_pol_2 , df_ijburg_treedict_pol_2 , df_ijburg_treegrowth_pol_2, ijburg_static_points, ijburg_treedict_points, ijburg_treegrowth_points, xlim, area)"
   ]
  },
  {
   "cell_type": "markdown",
   "metadata": {},
   "source": [
    "# Sarphatipark\n"
   ]
  },
  {
   "cell_type": "code",
   "execution_count": null,
   "metadata": {},
   "outputs": [],
   "source": [
    "# retrieve static method shapefile results and merge on id\n",
    "df_sarphati_static = pd.read_csv(r\"C:\\Users\\Iris Reitsma\\Documents\\Master\\jaar 2\\stage\\validatie\\sarphati_2020_static.csv\")\n",
    "df_sarphati_static_pol = pd.read_csv(r\"C:\\Users\\Iris Reitsma\\Documents\\Master\\jaar 2\\stage\\validatie\\sarphati_static_polygonen.csv\")\n",
    "id_sarphati_static_pol = []\n",
    "for i, row in df_sarphati_static_pol.iterrows():\n",
    "    number = row['uid'][3:9]\n",
    "    id_sarphati_static_pol.append(int(number))\n",
    "df_sarphati_static_pol_2 = df_sarphati_static[df_sarphati_static['number'].isin(id_sarphati_static_pol)]\n",
    "\n",
    "# retrieve treedict method shapefile results and merge on id\n",
    "df_sarphati_treedict = pd.read_csv(r\"C:\\Users\\Iris Reitsma\\Documents\\Master\\jaar 2\\stage\\validatie\\sarphati_2020_treedict.csv\")\n",
    "df_sarphati_treedict_pol = pd.read_csv(r\"C:\\Users\\Iris Reitsma\\Documents\\Master\\jaar 2\\stage\\validatie\\sarphati_treedict_polygonen.csv\")\n",
    "id_sarphati_treedict_pol = []\n",
    "for i, row in df_sarphati_treedict_pol.iterrows():\n",
    "    number = row['uid'][3:9]\n",
    "    id_sarphati_treedict_pol.append(int(number))\n",
    "df_sarphati_treedict_pol_2 = df_sarphati_treedict[df_sarphati_treedict['number'].isin(id_sarphati_treedict_pol)]\n",
    "\n",
    "# retrieve treegrowth method shapefile results and merge on id\n",
    "df_sarphati_treegrowth = pd.read_csv(r\"C:\\Users\\Iris Reitsma\\Documents\\Master\\jaar 2\\stage\\validatie\\sarphati_2020_treegrowth.csv\")\n",
    "df_sarphati_treegrowth_pol = pd.read_csv(r\"C:\\Users\\Iris Reitsma\\Documents\\Master\\jaar 2\\stage\\validatie\\sarphati_treegrowth_polygonen.csv\")\n",
    "id_sarphati_treegrowth_pol = []\n",
    "for i, row in df_sarphati_treegrowth_pol.iterrows():\n",
    "    number = row['uid'][3:9]\n",
    "    id_sarphati_treegrowth_pol.append(int(number))\n",
    "df_sarphati_treegrowth_pol_2 = df_sarphati_treegrowth[df_sarphati_treegrowth['number'].isin(id_sarphati_treegrowth_pol)]"
   ]
  },
  {
   "cell_type": "code",
   "execution_count": null,
   "metadata": {},
   "outputs": [],
   "source": [
    "# retrieve results from point intersection\n",
    "sarphati_static_points = np.load(r\"C:\\Users\\Iris Reitsma\\Documents\\Master\\jaar 2\\stage\\validatie\\sarphati_static_punten.npy\")\n",
    "sarphati_treedict_points = np.load(r\"C:\\Users\\Iris Reitsma\\Documents\\Master\\jaar 2\\stage\\validatie\\sarphati_treedict_punten.npy\")\n",
    "sarphati_treegrowth_points = np.load(r\"C:\\Users\\Iris Reitsma\\Documents\\Master\\jaar 2\\stage\\validatie\\sarphati_treegrowth_punten.npy\")"
   ]
  },
  {
   "cell_type": "code",
   "execution_count": null,
   "metadata": {},
   "outputs": [],
   "source": [
    "xlim = (0.2-1/30, 1+1/30)\n",
    "area = 'sarphati'\n",
    "plotfunc(df_sarphati_static_pol_2 , df_sarphati_treedict_pol_2 , df_sarphati_treegrowth_pol_2, sarphati_static_points, sarphati_treedict_points, sarphati_treegrowth_points, xlim, area)\n",
    "plotfunc_points(df_sarphati_static_pol_2 , df_sarphati_treedict_pol_2 , df_sarphati_treegrowth_pol_2, sarphati_static_points, sarphati_treedict_points, sarphati_treegrowth_points, xlim, area)"
   ]
  }
 ],
 "metadata": {
  "kernelspec": {
   "display_name": "Python 3",
   "language": "python",
   "name": "python3"
  },
  "language_info": {
   "codemirror_mode": {
    "name": "ipython",
    "version": 3
   },
   "file_extension": ".py",
   "mimetype": "text/x-python",
   "name": "python",
   "nbconvert_exporter": "python",
   "pygments_lexer": "ipython3",
   "version": "3.8.5"
  }
 },
 "nbformat": 4,
 "nbformat_minor": 4
}
