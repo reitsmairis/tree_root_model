{
 "cells": [
  {
   "cell_type": "code",
   "execution_count": null,
   "metadata": {},
   "outputs": [],
   "source": [
    "import pandas as pd\n",
    "import numpy as np\n",
    "import copy\n",
    "import os\n",
    "import math\n",
    "import datetime\n",
    "from helpers import wgs_to_rd\n",
    "from exceptions import crown_unknown, bgt_unknown\n",
    "from rootvolume import rootvolume_calc, height_classifier, crown_classifier\n",
    "from timedependency import *\n",
    "import matplotlib.pyplot as plt\n",
    "from matplotlib.lines import Line2D"
   ]
  },
  {
   "cell_type": "markdown",
   "metadata": {},
   "source": [
    "### This code counts how many tree heights are over-, under-, or correclty estimated.  "
   ]
  },
  {
   "cell_type": "code",
   "execution_count": null,
   "metadata": {},
   "outputs": [],
   "source": [
    "wallengebied_data = pd.read_csv('data/wallengebied_validation.csv')\n",
    "ijburg_data = pd.read_csv('data/ijburg_validation.csv')\n",
    "sarphati_data = pd.read_csv('data/sarphati_validation.csv')\n",
    "display(wallengebied_data.head())\n",
    "display(sarphati_data.head())"
   ]
  },
  {
   "cell_type": "code",
   "execution_count": null,
   "metadata": {},
   "outputs": [],
   "source": [
    "def count(df): \n",
    "    total = 0\n",
    "    underestimate = 0\n",
    "    overestimate = 0\n",
    "    correct = 0\n",
    "    \n",
    "    for i, tree in df.iterrows():\n",
    "        type = tree['Boomtype']\n",
    "        if type == 'Vormboom' or type == 'Knotboom':\n",
    "            continue\n",
    "        if not df.at[i, 'Predicted height']:\n",
    "            continue        \n",
    "        if math.isnan(df.at[i, 'Gemeente height']):\n",
    "            continue\n",
    "            \n",
    "        # predicted height class\n",
    "        height_model = df.at[i, 'Predicted height']\n",
    "        predicted_height_class = height_classifier(height_model)\n",
    "        \n",
    "        # gemeente height class\n",
    "        height_gemeente = df.at[i, 'Gemeente height']\n",
    "        gemeente_height_class = height_classifier(height_gemeente)\n",
    "        \n",
    "        # 3 is the smallest height class, 1 the largest\n",
    "        if predicted_height_class > gemeente_height_class:\n",
    "            underestimate += 1\n",
    "        elif predicted_height_class < gemeente_height_class:\n",
    "            overestimate += 1\n",
    "        elif predicted_height_class == gemeente_height_class:           \n",
    "            correct += 1\n",
    "            \n",
    "        total += 1\n",
    "    \n",
    "    return total, underestimate, overestimate, correct"
   ]
  },
  {
   "cell_type": "code",
   "execution_count": null,
   "metadata": {},
   "outputs": [],
   "source": [
    "total, underestimate, overestimate, correct = count(wallengebied_data)\n",
    "print('WALLENGEBIED')\n",
    "print(total, underestimate, overestimate, correct)\n",
    "print('correct: ' + str(round(correct/total*100, 1)) + '%')\n",
    "print('underestimates: ' + str(round(underestimate/total*100, 1)) + '%')\n",
    "print('overestimates: ' + str(round(overestimate/total*100, 1)) + '%')"
   ]
  },
  {
   "cell_type": "code",
   "execution_count": null,
   "metadata": {},
   "outputs": [],
   "source": [
    "total, underestimate, overestimate, correct = count(ijburg_data)\n",
    "print('IJBURG')\n",
    "print(total, underestimate, overestimate, correct)\n",
    "print('correct: ' + str(round(correct/total*100, 1)) + '%')\n",
    "print('underestimates: ' + str(round(underestimate/total*100, 1)) + '%')\n",
    "print('overestimates: ' + str(round(overestimate/total*100, 1)) + '%')"
   ]
  },
  {
   "cell_type": "code",
   "execution_count": null,
   "metadata": {},
   "outputs": [],
   "source": [
    "total, underestimate, overestimate, correct = count(sarphati_data)\n",
    "print('SARPHATI')\n",
    "print(total, underestimate, overestimate, correct)\n",
    "print('correct: ' + str(round(correct/total*100, 1)) + '%')\n",
    "print('underestimates: ' + str(round(underestimate/total*100, 1)) + '%')\n",
    "print('overestimates: ' + str(round(overestimate/total*100, 1)) + '%')"
   ]
  },
  {
   "cell_type": "markdown",
   "metadata": {},
   "source": [
    "# BGT influence"
   ]
  },
  {
   "cell_type": "code",
   "execution_count": null,
   "metadata": {},
   "outputs": [],
   "source": [
    "for i in ['open_ground', 'light_load', 'moderate_load', 'heavy_load']:\n",
    "    total, underestimate, overestimate, correct = count(wallengebied_data[wallengebied_data['BGT_class'] == i])\n",
    "    print('WALLENGEBIED ' + i)\n",
    "    print(total, underestimate, overestimate, correct)\n",
    "    print('correct: ' + str(round(correct/total*100, 1)) + '%')\n",
    "    print('underestimates: ' + str(round(underestimate/total*100, 1)) + '%')\n",
    "    print('overestimates: ' + str(round(overestimate/total*100, 1)) + '%')\n",
    "    print()"
   ]
  },
  {
   "cell_type": "code",
   "execution_count": null,
   "metadata": {},
   "outputs": [],
   "source": [
    "for i in ['open_ground', 'light_load', 'moderate_load', 'heavy_load']:\n",
    "    total, underestimate, overestimate, correct = count(ijburg_data[ijburg_data['BGT_class'] == i])\n",
    "    print('IJBURG ' + i)\n",
    "    print(total, underestimate, overestimate, correct)\n",
    "    print('correct: ' + str(round(correct/total*100, 1)) + '%')\n",
    "    print('underestimates: ' + str(round(underestimate/total*100, 1)) + '%')\n",
    "    print('overestimates: ' + str(round(overestimate/total*100, 1)) + '%')\n",
    "    print()"
   ]
  },
  {
   "cell_type": "code",
   "execution_count": null,
   "metadata": {},
   "outputs": [],
   "source": [
    "for i in ['open_ground', 'light_load', 'moderate_load', 'heavy_load']:\n",
    "    total, underestimate, overestimate, correct = count(sarphati_data[sarphati_data['BGT_class'] == i])\n",
    "    print('SARPHATI ' + i)\n",
    "    print(total, underestimate, overestimate, correct)\n",
    "    print('correct: ' + str(round(correct/total*100, 1)) + '%')\n",
    "    print('underestimates: ' + str(round(underestimate/total*100, 1)) + '%')\n",
    "    print('overestimates: ' + str(round(overestimate/total*100, 1)) + '%')\n",
    "    print()"
   ]
  }
 ],
 "metadata": {
  "kernelspec": {
   "display_name": "Python 3",
   "language": "python",
   "name": "python3"
  },
  "language_info": {
   "codemirror_mode": {
    "name": "ipython",
    "version": 3
   },
   "file_extension": ".py",
   "mimetype": "text/x-python",
   "name": "python",
   "nbconvert_exporter": "python",
   "pygments_lexer": "ipython3",
   "version": "3.8.5"
  }
 },
 "nbformat": 4,
 "nbformat_minor": 4
}
