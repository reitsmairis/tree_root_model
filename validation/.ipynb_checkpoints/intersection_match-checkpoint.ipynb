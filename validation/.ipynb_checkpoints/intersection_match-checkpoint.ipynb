{
 "cells": [
  {
   "cell_type": "code",
   "execution_count": null,
   "metadata": {},
   "outputs": [],
   "source": [
    "import json\n",
    "import numpy as np\n",
    "import pandas as pd\n",
    "import matplotlib.pyplot as plt\n",
    "from helpers import wgs_to_rd\n",
    "from matplotlib import cm\n",
    "import shapefile as shp  "
   ]
  },
  {
   "cell_type": "markdown",
   "metadata": {},
   "source": [
    "### This code determines which root volume cylinders can be related to road damage "
   ]
  },
  {
   "cell_type": "code",
   "execution_count": null,
   "metadata": {},
   "outputs": [],
   "source": [
    "# wegen_kh = pd.read_csv(r\"C:\\Users\\Iris Reitsma\\Documents\\Master\\jaar 2\\stage\\validatie\\Verhardingen\\kunststof_halfverh_boom.csv\")\n",
    "# wegen_ab = pd.read_csv(r\"C:\\Users\\Iris Reitsma\\Documents\\Master\\jaar 2\\stage\\validatie\\Verhardingen\\asfalt_beton_boom.csv\")\n",
    "# wegen_punten = pd.concat([wegen_kh, wegen_ab], axis=0)"
   ]
  },
  {
   "cell_type": "markdown",
   "metadata": {},
   "source": [
    "## Wallengebied"
   ]
  },
  {
   "cell_type": "code",
   "execution_count": null,
   "metadata": {},
   "outputs": [],
   "source": [
    "# df_wallen_static = pd.read_csv(r\"C:\\Users\\Iris Reitsma\\Documents\\Master\\jaar 2\\stage\\validatie\\wallengebied_2020_static.csv\")\n",
    "# df_wallen_treegrowth = pd.read_csv(r\"C:\\Users\\Iris Reitsma\\Documents\\Master\\jaar 2\\stage\\validatie\\wallengebied_2020_treedict.csv\")\n",
    "# df_wallen_treegrowth = pd.read_csv(r\"C:\\Users\\Iris Reitsma\\Documents\\Master\\jaar 2\\stage\\validatie\\wallengebied_2020_treegrowth.csv\")\n",
    "# display(df_wallen_static)\n",
    "# display(wegen_punten)"
   ]
  },
  {
   "cell_type": "code",
   "execution_count": null,
   "metadata": {},
   "outputs": [],
   "source": [
    "def intersect(df, number_list, radius_list):\n",
    "    count_list = []\n",
    "    for index, row in df.iterrows():\n",
    "        print(index)\n",
    "        # retrieve info from df containing color/count\n",
    "        tree_number = df.at[index, 'number']\n",
    "        count = df.at[index, 'count']\n",
    "        rd_x = df.at[index, 'rdx']\n",
    "        rd_y = df.at[index, 'rdy']\n",
    "        \n",
    "        # retrieve radius corresponding to tree\n",
    "        number_index = np.where(number_list == tree_number)[0]\n",
    "        radius = radius_list[number_index]\n",
    "        \n",
    "        for i, punt in wegen_punten.iterrows(): \n",
    "            p_x = punt['X']\n",
    "            p_y = punt['Y']\n",
    "            distance = np.sqrt((rd_x - p_x)**2 + (rd_y - p_y)**2)\n",
    "            if distance <= radius:\n",
    "                count_list.append(count)\n",
    "                \n",
    "    return count_list"
   ]
  },
  {
   "cell_type": "code",
   "execution_count": null,
   "metadata": {},
   "outputs": [],
   "source": [
    "def intersect_sia(df, number_list, radius_list, x_list, y_list):\n",
    "    count_list = []\n",
    "    for index, row in df.iterrows():\n",
    "        print(index)\n",
    "        # retrieve info from df containing color/count\n",
    "        tree_number = df.at[index, 'number']\n",
    "        count = df.at[index, 'count']\n",
    "        rd_x = df.at[index, 'rdx']\n",
    "        rd_y = df.at[index, 'rdy']\n",
    "        \n",
    "        # retrieve radius corresponding to tree\n",
    "        number_index = np.where(number_list == tree_number)[0]\n",
    "        radius = radius_list[number_index]\n",
    "        \n",
    "        for i in range(len(x_list)): \n",
    "            p_x = x_list[i]\n",
    "            p_y = y_list[i]\n",
    "            distance = np.sqrt((rd_x - p_x)**2 + (rd_y - p_y)**2)\n",
    "            if distance <= radius:\n",
    "                count_list.append(count)\n",
    "                \n",
    "    return count_list"
   ]
  },
  {
   "cell_type": "code",
   "execution_count": null,
   "metadata": {},
   "outputs": [],
   "source": [
    "sia_wallen = pd.read_excel(r'C:\\Users\\Iris Reitsma\\Documents\\Master\\jaar 2\\stage\\validatie\\Meldingen\\Meldingen_Centrum.xlsx')\n",
    "sia_wallen_x = []\n",
    "sia_wallen_y = []\n",
    "for index, row in sia_wallen.iterrows():\n",
    "    lat = row['LATITUDE']\n",
    "    lng = row['LONGITUDE']\n",
    "    if type(lat)==str:\n",
    "        lat = float(lat.replace(',', '.'))\n",
    "    rd_x, rd_y = wgs_to_rd(lat, lng)\n",
    "    sia_wallen_x.append(rd_x)\n",
    "    sia_wallen_y.append(rd_y)"
   ]
  },
  {
   "cell_type": "code",
   "execution_count": null,
   "metadata": {},
   "outputs": [],
   "source": [
    "treenumbers_wallen_static = np.load(r\"C:\\Users\\Iris Reitsma\\Documents\\Master\\jaar 2\\stage\\root_model\\output\\numpy_files\\Wallengebied_static_number.npy\")[0]\n",
    "radius_wallen_tot_static = np.load(r\"C:\\Users\\Iris Reitsma\\Documents\\Master\\jaar 2\\stage\\root_model\\output\\numpy_files\\Wallengebied_static_radius.npy\")[0]\n",
    "radius_wallen_static = radius_wallen_tot_static.T[-1]\n",
    "df_wallen_static = pd.read_csv(r\"C:\\Users\\Iris Reitsma\\Documents\\Master\\jaar 2\\stage\\validatie\\wallengebied_2020_static.csv\")\n"
   ]
  },
  {
   "cell_type": "code",
   "execution_count": null,
   "metadata": {},
   "outputs": [],
   "source": [
    "counts = intersect_sia(df_wallen_static, treenumbers_wallen_static, radius_wallen_static, sia_wallen_x, sia_wallen_y)\n",
    "print(counts)"
   ]
  },
  {
   "cell_type": "code",
   "execution_count": null,
   "metadata": {},
   "outputs": [],
   "source": [
    "print(counts)\n",
    "np.save(r\"C:\\Users\\Iris Reitsma\\Documents\\Master\\jaar 2\\stage\\validatie\\wallen_static_sia.npy\", counts)\n",
    "plt.hist(counts, bins=[0,0.2,0.4,0.6,0.8,1])\n",
    "plt.show()"
   ]
  },
  {
   "cell_type": "code",
   "execution_count": null,
   "metadata": {},
   "outputs": [],
   "source": [
    "# arr = np.load(r\"C:\\Users\\Iris Reitsma\\Documents\\Master\\jaar 2\\stage\\validatie\\wallen_static_punten.npy\")\n",
    "# print(arr)"
   ]
  },
  {
   "cell_type": "markdown",
   "metadata": {},
   "source": [
    "# IJburg"
   ]
  },
  {
   "cell_type": "code",
   "execution_count": null,
   "metadata": {},
   "outputs": [],
   "source": [
    "sia_ijburg = pd.read_excel(r'C:\\Users\\Iris Reitsma\\Documents\\Master\\jaar 2\\stage\\validatie\\Meldingen\\Meldingen_IJburg.xlsx')\n",
    "sia_ijburg_x = []\n",
    "sia_ijburg_y = []\n",
    "for index, row in sia_ijburg.iterrows():\n",
    "    lat = row['LATITUDE']\n",
    "    lng = row['LONGITUDE']\n",
    "    if type(lat)==str:\n",
    "        lat = float(lat.replace(',', '.'))\n",
    "    rd_x, rd_y = wgs_to_rd(lat, lng)\n",
    "    sia_ijburg_x.append(rd_x)\n",
    "    sia_ijburg_y.append(rd_y)"
   ]
  },
  {
   "cell_type": "code",
   "execution_count": null,
   "metadata": {},
   "outputs": [],
   "source": [
    "treenumbers_ijburg_static = np.load(r\"C:\\Users\\Iris Reitsma\\Documents\\Master\\jaar 2\\stage\\root_model\\output\\numpy_files\\IJburg_static_number.npy\")[0]\n",
    "radius_ijburg_tot_static = np.load(r\"C:\\Users\\Iris Reitsma\\Documents\\Master\\jaar 2\\stage\\root_model\\output\\numpy_files\\IJburg_static_radius.npy\")[0]\n",
    "radius_ijburg_static = radius_ijburg_tot_static.T[-1]\n",
    "df_ijburg_static = pd.read_csv(r\"C:\\Users\\Iris Reitsma\\Documents\\Master\\jaar 2\\stage\\validatie\\ijburg_2020_static.csv\")\n"
   ]
  },
  {
   "cell_type": "code",
   "execution_count": null,
   "metadata": {},
   "outputs": [],
   "source": [
    "counts = intersect_sia(df_ijburg_static, treenumbers_ijburg_static, radius_ijburg_static, sia_ijburg_x, sia_ijburg_y)\n",
    "np.save(r\"C:\\Users\\Iris Reitsma\\Documents\\Master\\jaar 2\\stage\\validatie\\ijburg_static_sia.npy\", counts)\n"
   ]
  },
  {
   "cell_type": "code",
   "execution_count": null,
   "metadata": {},
   "outputs": [],
   "source": [
    "plt.hist(counts, bins=[0,0.2,0.4,0.6,0.8,1])"
   ]
  },
  {
   "cell_type": "markdown",
   "metadata": {},
   "source": [
    "# Sarphati"
   ]
  },
  {
   "cell_type": "code",
   "execution_count": null,
   "metadata": {},
   "outputs": [],
   "source": [
    "sia_sarphati = pd.read_excel(r'C:\\Users\\Iris Reitsma\\Documents\\Master\\jaar 2\\stage\\validatie\\Meldingen\\Meldingen_Zuid.xlsx')\n",
    "sia_sarphati_x = []\n",
    "sia_sarphati_y = []\n",
    "for index, row in sia_sarphati.iterrows():\n",
    "    lat = row['LATITUDE']\n",
    "    lng = row['LONGITUDE']\n",
    "    if type(lat)==str:\n",
    "        lat = float(lat.replace(',', '.'))\n",
    "    rd_x, rd_y = wgs_to_rd(lat, lng)\n",
    "    sia_sarphati_x.append(rd_x)\n",
    "    sia_sarphati_y.append(rd_y)"
   ]
  },
  {
   "cell_type": "code",
   "execution_count": null,
   "metadata": {},
   "outputs": [],
   "source": [
    "treenumbers_sarphati_treegrowth = np.load(r\"C:\\Users\\Iris Reitsma\\Documents\\Master\\jaar 2\\stage\\root_model\\output\\numpy_files\\Sarphati_treegrowth_number.npy\")[0]\n",
    "radius_sarphati_tot_treegrowth = np.load(r\"C:\\Users\\Iris Reitsma\\Documents\\Master\\jaar 2\\stage\\root_model\\output\\numpy_files\\Sarphati_treegrowth_radius.npy\")[0]\n",
    "radius_sarphati_treegrowth = radius_sarphati_tot_treegrowth.T[-1]\n",
    "df_sarphati_treegrowth = pd.read_csv(r\"C:\\Users\\Iris Reitsma\\Documents\\Master\\jaar 2\\stage\\validatie\\sarphati_2020_treegrowth.csv\")\n"
   ]
  },
  {
   "cell_type": "code",
   "execution_count": null,
   "metadata": {},
   "outputs": [],
   "source": [
    "counts = intersect_sia(df_sarphati_treegrowth, treenumbers_sarphati_treegrowth, radius_sarphati_treegrowth, sia_sarphati_x, sia_sarphati_y)\n",
    "np.save(r\"C:\\Users\\Iris Reitsma\\Documents\\Master\\jaar 2\\stage\\validatie\\sarphati_treegrowth_sia.npy\", counts)\n",
    "plt.hist(counts, bins=[0,0.2,0.4,0.6,0.8,1])\n"
   ]
  }
 ],
 "metadata": {
  "kernelspec": {
   "display_name": "Python 3",
   "language": "python",
   "name": "python3"
  },
  "language_info": {
   "codemirror_mode": {
    "name": "ipython",
    "version": 3
   },
   "file_extension": ".py",
   "mimetype": "text/x-python",
   "name": "python",
   "nbconvert_exporter": "python",
   "pygments_lexer": "ipython3",
   "version": "3.8.5"
  }
 },
 "nbformat": 4,
 "nbformat_minor": 4
}
