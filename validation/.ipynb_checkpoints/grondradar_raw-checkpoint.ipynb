{
 "cells": [
  {
   "cell_type": "code",
   "execution_count": null,
   "metadata": {},
   "outputs": [],
   "source": [
    "import pandas as pd\n",
    "import numpy as np\n",
    "from matplotlib.lines import Line2D\n",
    "import matplotlib.pyplot as plt"
   ]
  },
  {
   "cell_type": "markdown",
   "metadata": {},
   "source": [
    "### This notebook compares the raw root detection data with the estimated root volumes"
   ]
  },
  {
   "cell_type": "code",
   "execution_count": null,
   "metadata": {},
   "outputs": [],
   "source": [
    "# load tree information\n",
    "df_boomdata = pd.read_excel(r\"C:\\Users\\Iris Reitsma\\Documents\\Master\\jaar 2\\stage\\validatie\\Grondradar\\pixelcount.xlsx\")\n",
    "boomnummers = np.array(df_boomdata['Boomnummer'])\n",
    "print(boomnummers)\n",
    "df_boomdata['color'] = 'C0'\n",
    "df_boomdata['color'][df_boomdata['shape'] == 'line'] = 'C1'"
   ]
  },
  {
   "cell_type": "code",
   "execution_count": null,
   "metadata": {},
   "outputs": [],
   "source": [
    "# load raw root detection count\n",
    "detections_list = []\n",
    "for n in boomnummers:\n",
    "    df = pd.read_csv(r\"C:\\Users\\Iris Reitsma\\Documents\\Master\\jaar 2\\stage\\validatie\\Grondradar\\puntenselecties\\boom{}.csv\".format(n))\n",
    "    \n",
    "    # count detections in each ground layer\n",
    "    rows_1 = len(df[df['Layer'] == 'Grondradar worteldetectie 0-30 cm'])\n",
    "    rows_2 = len(df[df['Layer'] == 'Grondradar worteldetectie 30-60 cm'])\n",
    "    rows_3 = len(df[df['Layer'] == 'Grondradar worteldetectie 6-100 cm'])\n",
    "    detections = rows_1 + rows_2 + rows_3\n",
    "    detections_list.append(detections)"
   ]
  },
  {
   "cell_type": "code",
   "execution_count": null,
   "metadata": {},
   "outputs": [],
   "source": [
    "# load estimated root volumes\n",
    "volume_centraal_static = np.load(r\"C:\\Users\\Iris Reitsma\\Documents\\Master\\jaar 2\\stage\\root_model\\output\\numpy_files\\Centraal_static_volume.npy\")[0]\n",
    "volume_centraal_treedict = np.load(r\"C:\\Users\\Iris Reitsma\\Documents\\Master\\jaar 2\\stage\\root_model\\output\\numpy_files\\Centraal_treedict_volume.npy\")[0]\n",
    "volume_centraal_treegrowth = np.load(r\"C:\\Users\\Iris Reitsma\\Documents\\Master\\jaar 2\\stage\\root_model\\output\\numpy_files\\Centraal_treegrowth_volume.npy\")[0]\n",
    "optimal_static = volume_centraal_static.T[0]\n",
    "df_boomdata['static'] = optimal_static\n",
    "optimal_treedict = volume_centraal_treedict.T[0]\n",
    "df_boomdata['treedict'] = optimal_treedict\n",
    "optimal_treegrowth = volume_centraal_treegrowth.T[0]\n",
    "df_boomdata['treegrowth'] = optimal_treegrowth"
   ]
  },
  {
   "cell_type": "code",
   "execution_count": null,
   "metadata": {},
   "outputs": [],
   "source": [
    "def plot(df, detections_list, model):\n",
    "#     df.sort_values(by=model)\n",
    "    plt.scatter(df[model], detections_list, color=df['color'])\n",
    "        \n",
    "    legend_elements = [Line2D([0], [0], marker='o', color='w', markerfacecolor='C0', label='circular scan'),\n",
    "                    Line2D([0], [0], marker='o', color='w', markerfacecolor='C1', label='linear scan'),\n",
    "                    ]\n",
    "    \n",
    "    for i, txt in df.iterrows():\n",
    "        plt.annotate(txt['Boomnummer'], (txt[model], detections_list[i]+3), fontsize=12)\n",
    "    \n",
    "    plt.xlabel('Estimated volume ($m^3$)', fontsize=14)\n",
    "    plt.ylabel('Detection count', fontsize=14)\n",
    "    plt.legend(handles=legend_elements)\n",
    "    plt.tight_layout()\n",
    "#     plt.ylim(10,140)\n",
    "    plt.savefig('plots/groundradar_raw_{}'.format(model), dpi=300)\n",
    "    plt.show()\n"
   ]
  },
  {
   "cell_type": "code",
   "execution_count": null,
   "metadata": {},
   "outputs": [],
   "source": [
    "print(detections_list)\n",
    "plot(df_boomdata, detections_list, 'static')\n",
    "plot(df_boomdata, detections_list, 'treedict')\n",
    "plot(df_boomdata, detections_list, 'treegrowth')\n"
   ]
  }
 ],
 "metadata": {
  "kernelspec": {
   "display_name": "Python 3",
   "language": "python",
   "name": "python3"
  },
  "language_info": {
   "codemirror_mode": {
    "name": "ipython",
    "version": 3
   },
   "file_extension": ".py",
   "mimetype": "text/x-python",
   "name": "python",
   "nbconvert_exporter": "python",
   "pygments_lexer": "ipython3",
   "version": "3.8.5"
  }
 },
 "nbformat": 4,
 "nbformat_minor": 4
}
