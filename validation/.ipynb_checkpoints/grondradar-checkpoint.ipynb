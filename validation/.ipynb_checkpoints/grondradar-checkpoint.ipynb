{
 "cells": [
  {
   "cell_type": "code",
   "execution_count": null,
   "metadata": {},
   "outputs": [],
   "source": [
    "import pandas as pd\n",
    "import numpy as np\n",
    "import matplotlib.pyplot as plt\n",
    "from matplotlib.lines import Line2D"
   ]
  },
  {
   "cell_type": "markdown",
   "metadata": {},
   "source": [
    "### This notebook compares the ground radar scan pixel count with the estimated root volumes"
   ]
  },
  {
   "cell_type": "code",
   "execution_count": null,
   "metadata": {},
   "outputs": [],
   "source": [
    "# load voxel count\n",
    "df = pd.read_excel(r\"C:\\Users\\Iris Reitsma\\Documents\\Master\\jaar 2\\stage\\validatie\\Grondradar\\pixelcount.xlsx\")\n",
    "display(df)"
   ]
  },
  {
   "cell_type": "code",
   "execution_count": null,
   "metadata": {},
   "outputs": [],
   "source": [
    "# normalize voxel count\n",
    "df['area_m'] = df['width_m'] * df['height_m']\n",
    "df['area_pixel'] = df['width_pixel'] * df['height_pixel']\n",
    "df['normalized'] = df['number of points'] / df['area_pixel'] * df['area_m']\n",
    "normalized = np.array(df['normalized'])\n",
    "boomnummer = np.array(df['Boomnummer'])\n",
    "df['color'] = 'C0'\n",
    "df['color'][df['shape'] == 'line'] = 'C1'\n",
    "display(df)"
   ]
  },
  {
   "cell_type": "code",
   "execution_count": null,
   "metadata": {},
   "outputs": [],
   "source": [
    "# load estimated root volumes\n",
    "volume_centraal_static = np.load(r\"C:\\Users\\Iris Reitsma\\Documents\\Master\\jaar 2\\stage\\root_model\\output\\numpy_files\\Centraal_static_volume.npy\")[0]\n",
    "volume_centraal_treedict = np.load(r\"C:\\Users\\Iris Reitsma\\Documents\\Master\\jaar 2\\stage\\root_model\\output\\numpy_files\\Centraal_treedict_volume.npy\")[0]\n",
    "volume_centraal_treegrowth = np.load(r\"C:\\Users\\Iris Reitsma\\Documents\\Master\\jaar 2\\stage\\root_model\\output\\numpy_files\\Centraal_treegrowth_volume.npy\")[0]\n",
    "optimal_static = volume_centraal_static.T[0]\n",
    "df['static'] = optimal_static\n",
    "optimal_treedict = volume_centraal_treedict.T[0]\n",
    "df['treedict'] = optimal_treedict\n",
    "optimal_treegrowth = volume_centraal_treegrowth.T[0]\n",
    "df['treegrowth'] = optimal_treegrowth"
   ]
  },
  {
   "cell_type": "code",
   "execution_count": null,
   "metadata": {},
   "outputs": [],
   "source": [
    "def plot(df, model):\n",
    "#     df.sort_values(by=model)\n",
    "    plt.scatter(df[model], df['normalized'], color=df['color'])\n",
    "        \n",
    "    legend_elements = [Line2D([0], [0], marker='o', color='w', markerfacecolor='C0', label='circular scan'),\n",
    "                    Line2D([0], [0], marker='o', color='w', markerfacecolor='C1', label='linear scan'),\n",
    "                    ]\n",
    "    \n",
    "    for i, txt in df.iterrows():\n",
    "        plt.annotate(txt['Boomnummer'], (txt[model], txt['normalized']+3), fontsize=12)\n",
    "    \n",
    "    plt.xlabel('Estimated volume ($m^3$)', fontsize=14)\n",
    "    plt.ylabel('Voxel count', fontsize=14)\n",
    "    plt.legend(handles=legend_elements)\n",
    "    plt.tight_layout()\n",
    "    plt.ylim(10,140)\n",
    "    plt.savefig('plots/groundradar_{}'.format(model), dpi=300)\n",
    "    plt.show()\n",
    "\n"
   ]
  },
  {
   "cell_type": "code",
   "execution_count": null,
   "metadata": {},
   "outputs": [],
   "source": [
    "plot(df, 'static')\n",
    "plot(df, 'treedict')\n",
    "plot(df, 'treegrowth')"
   ]
  }
 ],
 "metadata": {
  "kernelspec": {
   "display_name": "Python 3",
   "language": "python",
   "name": "python3"
  },
  "language_info": {
   "codemirror_mode": {
    "name": "ipython",
    "version": 3
   },
   "file_extension": ".py",
   "mimetype": "text/x-python",
   "name": "python",
   "nbconvert_exporter": "python",
   "pygments_lexer": "ipython3",
   "version": "3.8.5"
  }
 },
 "nbformat": 4,
 "nbformat_minor": 4
}
