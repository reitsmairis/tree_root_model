{
 "cells": [
  {
   "cell_type": "code",
   "execution_count": null,
   "metadata": {},
   "outputs": [],
   "source": [
    "import json\n",
    "import numpy as np\n",
    "import pandas as pd\n",
    "import matplotlib.pyplot as plt\n",
    "from bgt_reader import get_properties, WMTS_calculator, bgt_classifier\n",
    "from helpers import wgs_to_rd\n",
    "from matplotlib import cm\n",
    "import shapefile as shp  \n",
    "from matplotlib.lines import Line2D"
   ]
  },
  {
   "cell_type": "markdown",
   "metadata": {},
   "source": [
    "### This code creates scatter plots of the intersection scores"
   ]
  },
  {
   "cell_type": "code",
   "execution_count": null,
   "metadata": {},
   "outputs": [],
   "source": [
    "wegen_kh = pd.read_csv(r\"C:\\Users\\Iris Reitsma\\Documents\\Master\\jaar 2\\stage\\validatie\\Verhardingen\\kunststof_halfverh_boom.csv\")\n",
    "wegen_ab = pd.read_csv(r\"C:\\Users\\Iris Reitsma\\Documents\\Master\\jaar 2\\stage\\validatie\\Verhardingen\\asfalt_beton_boom.csv\")\n",
    "wegen_punten = pd.concat([wegen_kh, wegen_ab], axis=0)\n",
    "# wegen_punten.to_csv(r\"C:\\Users\\Iris Reitsma\\Documents\\Master\\jaar 2\\stage\\validatie\\Verhardingen\\wegen_punten.csv\")\n",
    "wegen_shapes = shp.Reader(r\"C:\\Users\\Iris Reitsma\\Documents\\Master\\jaar 2\\stage\\validatie\\Verhardingen\\Planning2021_v2_boomwortelopdruk.dbf\")"
   ]
  },
  {
   "cell_type": "code",
   "execution_count": null,
   "metadata": {},
   "outputs": [],
   "source": [
    "def add_patch(legend):\n",
    "    from matplotlib.patches import Patch\n",
    "    ax = legend.axes\n",
    "\n",
    "    handles, labels = ax.get_legend_handles_labels()\n",
    "    handles.append(Patch(facecolor='w', edgecolor='black'))\n",
    "    labels.append(\"shapefile inspection\")\n",
    "\n",
    "    legend._legend_box = None\n",
    "    legend._init_legend_box(handles, labels)\n",
    "    legend._set_loc(legend._loc)\n",
    "    legend.set_title(legend.get_title().get_text())\n"
   ]
  },
  {
   "cell_type": "code",
   "execution_count": null,
   "metadata": {},
   "outputs": [],
   "source": [
    "def plotfunc(df_static, df_treedict, df_treegrowth, sia_x, sia_y, xlim, ylim, area):\n",
    "    fig, axs = plt.subplots(2, 2, sharex=True, sharey=True, figsize=(10,8))\n",
    "#     legend_elements = [Line2D([0], [0], marker='x', color='w', markerfacecolor='black', label='point inspection'),\n",
    "#                 Line2D([0], [0], marker='x', color='w', markerfacecolor='red', label='civilian notification'),\n",
    "#                 ]\n",
    "    \n",
    "    im = axs[1, 0].scatter(df_treedict['rdx'], df_treedict['rdy'], c=df_treedict['count'])\n",
    "    axs[1, 0].set_title('tree dictionary')\n",
    "    axs[1, 0].set_ylabel('RD y (m)', fontsize=14)\n",
    "    axs[1, 0].set_xlabel('RD x (m)', fontsize=14)\n",
    "\n",
    "    axs[0, 1].scatter(df_static['rdx'], df_static['rdy'], c=df_static['count'])\n",
    "    axs[0, 1].set_title('static')\n",
    "\n",
    "    axs[1, 1].scatter(df_treegrowth['rdx'], df_treegrowth['rdy'], c=df_treegrowth['count'])\n",
    "    axs[1, 1].set_title('tree growth')\n",
    "    axs[1, 1].set_xlabel('RD x (m)', fontsize=14)\n",
    "\n",
    "    for shape in wegen_shapes.shapeRecords():\n",
    "        x = [i[0] for i in shape.shape.points[:]]\n",
    "        y = [i[1] for i in shape.shape.points[:]] \n",
    "        try:\n",
    "            weight = shape.record['CROW_ONEFF'][0]\n",
    "        except:\n",
    "            continue\n",
    "        if weight == 'E':\n",
    "            color='Black'\n",
    "        elif weight == 'M':\n",
    "            color='dimgrey'\n",
    "        elif weight == 'L':\n",
    "            color='silver'\n",
    "        else:\n",
    "            continue\n",
    "        axs[0, 0].plot(x, y, zorder=-1, color=color)\n",
    "        axs[0, 1].plot(x, y, zorder=-1, color=color)\n",
    "        axs[1, 0].plot(x, y, zorder=-1, color=color)\n",
    "        axs[1, 1].plot(x, y, zorder=-1, color=color)\n",
    "\n",
    "    axs[0, 0].set_title('root damage')\n",
    "    axs[0, 0].set_ylabel('RD y (m)', fontsize=14)\n",
    "    size = 150\n",
    "    axs[0, 0].scatter(wegen_punten['X'], wegen_punten['Y'], c='blue', marker='x', s=size, label='point inspection') \n",
    "    axs[0, 1].scatter(wegen_punten['X'], wegen_punten['Y'], c='blue', marker='x', s=size) \n",
    "    axs[1, 0].scatter(wegen_punten['X'], wegen_punten['Y'], c='blue', marker='x', s=size) \n",
    "    axs[1, 1].scatter(wegen_punten['X'], wegen_punten['Y'], c='blue', marker='x', s=size) \n",
    "    axs[0, 0].scatter(sia_x, sia_y, c='red', marker='x', s=size, label='civilian notification')\n",
    "    axs[0, 1].scatter(sia_x, sia_y, c='red', marker='x', s=size, label='civilian notification') \n",
    "    axs[1, 0].scatter(sia_x, sia_y, c='red', marker='x', s=size, label='civilian notification') \n",
    "    axs[1, 1].scatter(sia_x, sia_y, c='red', marker='x', s=size, label='civilian notification') \n",
    "    \n",
    "    plt.xlim(xlim[0], xlim[1])\n",
    "    plt.ylim(ylim[0], ylim[1])\n",
    "    cbar = fig.colorbar(im, ax=axs.ravel().tolist(), orientation='vertical')\n",
    "    cbar.set_label('intersection score', fontsize=14)\n",
    "    cbar.ax.tick_params(labelsize=12)\n",
    "    lgd = axs[0,0].legend(framealpha=0.9)\n",
    "    add_patch(lgd)\n",
    "#     plt.tight_layout()\n",
    "    fig.autofmt_xdate()\n",
    "    plt.savefig('plots/opdruk_scatter_{}'.format(area), dpi=300)\n",
    "    plt.show()"
   ]
  },
  {
   "cell_type": "markdown",
   "metadata": {},
   "source": [
    "## Wallengebied"
   ]
  },
  {
   "cell_type": "code",
   "execution_count": null,
   "metadata": {},
   "outputs": [],
   "source": [
    "df_wallen_static = pd.read_csv(r\"C:\\Users\\Iris Reitsma\\Documents\\Master\\jaar 2\\stage\\validatie\\wallengebied_2020_static.csv\")\n",
    "df_wallen_treedict = pd.read_csv(r\"C:\\Users\\Iris Reitsma\\Documents\\Master\\jaar 2\\stage\\validatie\\wallengebied_2020_treedict.csv\")\n",
    "df_wallen_treegrowth = pd.read_csv(r\"C:\\Users\\Iris Reitsma\\Documents\\Master\\jaar 2\\stage\\validatie\\wallengebied_2020_treegrowth.csv\")\n",
    "\n",
    "sia_wallen = pd.read_excel(r'C:\\Users\\Iris Reitsma\\Documents\\Master\\jaar 2\\stage\\validatie\\Meldingen\\Meldingen_Centrum.xlsx')\n",
    "sia_wallen_x = []\n",
    "sia_wallen_y = []\n",
    "for index, row in sia_wallen.iterrows():\n",
    "    lat = row['LATITUDE']\n",
    "    lng = row['LONGITUDE']\n",
    "    if type(lat)==str:\n",
    "        lat = float(lat.replace(',', '.'))\n",
    "    rd_x, rd_y = wgs_to_rd(lat, lng)\n",
    "    sia_wallen_x.append(rd_x)\n",
    "    sia_wallen_y.append(rd_y)\n",
    "sia_wallen['x'] = sia_wallen_x\n",
    "sia_wallen['y'] = sia_wallen_y\n",
    "# display(sia_wallen)\n",
    "# sia_wallen.to_csv(r\"C:\\Users\\Iris Reitsma\\Documents\\Master\\jaar 2\\stage\\validatie\\Meldingen\\sia_wallen.csv\")\n"
   ]
  },
  {
   "cell_type": "code",
   "execution_count": null,
   "metadata": {},
   "outputs": [],
   "source": [
    "xlim = (121273, 122198)\n",
    "ylim = (486573, 487709)\n",
    "area = 'wallen'\n",
    "plotfunc(df_wallen_static, df_wallen_treedict, df_wallen_treegrowth, sia_wallen_x, sia_wallen_y, xlim=xlim, ylim=ylim, area=area)"
   ]
  },
  {
   "cell_type": "code",
   "execution_count": null,
   "metadata": {},
   "outputs": [],
   "source": [
    "xlim = (121800, 122000)\n",
    "ylim = (487450, 487709)\n",
    "area = 'wallen_zoom'\n",
    "plotfunc(df_wallen_static, df_wallen_treedict, df_wallen_treegrowth, sia_wallen_x, sia_wallen_y, xlim=xlim, ylim=ylim, area=area)"
   ]
  },
  {
   "cell_type": "markdown",
   "metadata": {},
   "source": [
    "## IJburg"
   ]
  },
  {
   "cell_type": "code",
   "execution_count": null,
   "metadata": {},
   "outputs": [],
   "source": [
    "df_ijburg_static = pd.read_csv(r\"C:\\Users\\Iris Reitsma\\Documents\\Master\\jaar 2\\stage\\validatie\\ijburg_2020_static.csv\")\n",
    "df_ijburg_treedict = pd.read_csv(r\"C:\\Users\\Iris Reitsma\\Documents\\Master\\jaar 2\\stage\\validatie\\ijburg_2020_treedict.csv\")\n",
    "df_ijburg_treegrowth = pd.read_csv(r\"C:\\Users\\Iris Reitsma\\Documents\\Master\\jaar 2\\stage\\validatie\\ijburg_2020_treegrowth.csv\")\n",
    "\n",
    "sia_ijburg = pd.read_excel(r'C:\\Users\\Iris Reitsma\\Documents\\Master\\jaar 2\\stage\\validatie\\Meldingen\\Meldingen_IJburg.xlsx')\n",
    "sia_ijburg_x = []\n",
    "sia_ijburg_y = []\n",
    "for index, row in sia_ijburg.iterrows():\n",
    "    lat = row['LATITUDE']\n",
    "    lng = row['LONGITUDE']\n",
    "    if type(lat)==str:\n",
    "        lat = float(lat.replace(',', '.'))\n",
    "    rd_x, rd_y = wgs_to_rd(lat, lng)\n",
    "    sia_ijburg_x.append(rd_x)\n",
    "    sia_ijburg_y.append(rd_y)\n",
    "sia_ijburg['x'] = sia_ijburg_x\n",
    "sia_ijburg['y'] = sia_ijburg_y\n",
    "sia_ijburg.to_csv(r\"C:\\Users\\Iris Reitsma\\Documents\\Master\\jaar 2\\stage\\validatie\\Meldingen\\sia_ijburg.csv\")\n"
   ]
  },
  {
   "cell_type": "code",
   "execution_count": null,
   "metadata": {},
   "outputs": [],
   "source": [
    "xlim = (127701, 129202)\n",
    "ylim = (484478, 486233)\n",
    "area = 'ijburg'\n",
    "plotfunc(df_ijburg_static, df_ijburg_treedict, df_ijburg_treegrowth, sia_ijburg_x, sia_ijburg_y, xlim=xlim, ylim=ylim, area=area)\n"
   ]
  },
  {
   "cell_type": "code",
   "execution_count": null,
   "metadata": {},
   "outputs": [],
   "source": [
    "xlim = (128500, 129202)\n",
    "ylim = (484478, 485000)\n",
    "area = 'ijburg_zoom'\n",
    "plotfunc(df_ijburg_static, df_ijburg_treedict, df_ijburg_treegrowth, sia_ijburg_x, sia_ijburg_y, xlim=xlim, ylim=ylim, area=area)\n"
   ]
  },
  {
   "cell_type": "markdown",
   "metadata": {},
   "source": [
    "## Sarphati"
   ]
  },
  {
   "cell_type": "code",
   "execution_count": null,
   "metadata": {},
   "outputs": [],
   "source": [
    "df_sarphati_static = pd.read_csv(r\"C:\\Users\\Iris Reitsma\\Documents\\Master\\jaar 2\\stage\\validatie\\sarphati_2020_static.csv\")\n",
    "df_sarphati_treedict = pd.read_csv(r\"C:\\Users\\Iris Reitsma\\Documents\\Master\\jaar 2\\stage\\validatie\\sarphati_2020_treedict.csv\")\n",
    "df_sarphati_treegrowth = pd.read_csv(r\"C:\\Users\\Iris Reitsma\\Documents\\Master\\jaar 2\\stage\\validatie\\sarphati_2020_treegrowth.csv\")\n",
    "\n",
    "sia_sarphati = pd.read_excel(r'C:\\Users\\Iris Reitsma\\Documents\\Master\\jaar 2\\stage\\validatie\\Meldingen\\Meldingen_Zuid.xlsx')\n",
    "sia_sarphati_x = []\n",
    "sia_sarphati_y = []\n",
    "for index, row in sia_sarphati.iterrows():\n",
    "    lat = row['LATITUDE']\n",
    "    lng = row['LONGITUDE']\n",
    "    if type(lat)==str:\n",
    "        lat = float(lat.replace(',', '.'))\n",
    "    rd_x, rd_y = wgs_to_rd(lat, lng)\n",
    "    sia_sarphati_x.append(rd_x)\n",
    "    sia_sarphati_y.append(rd_y)\n",
    "sia_sarphati['x'] = sia_sarphati_x\n",
    "sia_sarphati['y'] = sia_sarphati_y\n",
    "sia_sarphati.to_csv(r\"C:\\Users\\Iris Reitsma\\Documents\\Master\\jaar 2\\stage\\validatie\\Meldingen\\sia_sarphati.csv\")\n"
   ]
  },
  {
   "cell_type": "code",
   "execution_count": null,
   "metadata": {},
   "outputs": [],
   "source": [
    "xlim = (121328, 121802)\n",
    "ylim = (485157, 485382)\n",
    "area = 'sarphati'\n",
    "plotfunc(df_sarphati_static, df_sarphati_treedict, df_sarphati_treegrowth, sia_sarphati_x, sia_sarphati_y, xlim=xlim, ylim=ylim, area=area)\n"
   ]
  }
 ],
 "metadata": {
  "kernelspec": {
   "display_name": "Python 3",
   "language": "python",
   "name": "python3"
  },
  "language_info": {
   "codemirror_mode": {
    "name": "ipython",
    "version": 3
   },
   "file_extension": ".py",
   "mimetype": "text/x-python",
   "name": "python",
   "nbconvert_exporter": "python",
   "pygments_lexer": "ipython3",
   "version": "3.8.5"
  }
 },
 "nbformat": 4,
 "nbformat_minor": 4
}
