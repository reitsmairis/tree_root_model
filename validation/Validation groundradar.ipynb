{
 "cells": [
  {
   "cell_type": "code",
   "execution_count": 1,
   "metadata": {},
   "outputs": [],
   "source": [
    "import numpy as np\n",
    "import matplotlib.pyplot as plt"
   ]
  },
  {
   "cell_type": "code",
   "execution_count": 2,
   "metadata": {},
   "outputs": [
    {
     "name": "stdout",
     "output_type": "stream",
     "text": [
      "[[2.48755788 2.22455787 1.92597279]\n",
      " [2.15281024 1.92597279 1.67111901]\n",
      " [2.34582324 2.09753449 1.82290954]\n",
      " [2.42235231 2.16661777 1.88122601]\n",
      " [2.78689096 2.49267105 2.15871646]\n",
      " [2.93812255 2.62696752 2.27362102]\n",
      " [1.49696413 1.34224959 1.15624458]\n",
      " [2.62858262 2.35251948 2.03942374]\n",
      " [3.79421864 3.39390244 2.94101014]\n",
      " [1.43678311 1.28869266 1.10979595]\n",
      " [4.09856972 3.66564064 3.17687668]\n",
      " [0.9802405  0.88321652 0.75750025]\n",
      " [1.02427993 0.92223859 0.79147575]\n",
      " [1.05911474 0.93730213 0.81290302]\n",
      " [2.62211623 2.34529206 2.02899183]\n",
      " [2.15281024 1.92597279 1.67111901]\n",
      " [1.15844485 1.03047648 0.90270333]\n",
      " [1.82876348 1.63777022 1.41235334]\n",
      " [2.62211623 2.34529206 2.02899183]]\n",
      "[[2.62211623 2.34529206 2.02899183]\n",
      " [3.0970531  2.77162021 2.40073551]\n",
      " [2.83109062 2.53377869 2.19052753]\n",
      " [3.47620217 3.11156788 2.69469683]\n",
      " [3.46322343 3.09842317 2.68449918]\n",
      " [3.46322343 3.09842317 2.68449918]\n",
      " [2.16313553 1.93641175 1.67365677]\n",
      " [3.79421864 3.39390244 2.94101014]\n",
      " [3.79421864 3.39390244 2.94101014]\n",
      " [2.08032238 1.86268026 1.6095397 ]\n",
      " [4.09856972 3.66564064 3.17687668]\n",
      " [1.45993253 1.31105812 1.12913117]\n",
      " [1.82922758 1.64139419 1.41835062]\n",
      " [1.7623438  1.58187867 1.36653503]\n",
      " [3.0970531  2.77162021 2.40073551]\n",
      " [3.0970531  2.77162021 2.40073551]\n",
      " [1.82922758 1.64139419 1.41835062]\n",
      " [3.0970531  2.77162021 2.40073551]\n",
      " [2.62211623 2.34529206 2.02899183]]\n",
      "[[3.0970531  2.77162021 2.40073551]\n",
      " [3.0970531  2.77162021 2.40073551]\n",
      " [3.3553422  3.00420802 2.60108177]\n",
      " [3.47620217 3.11156788 2.69469683]\n",
      " [3.46322343 3.09842317 2.68449918]\n",
      " [3.46322343 3.09842317 2.68449918]\n",
      " [2.5669076  2.29868313 1.98991834]\n",
      " [3.79421864 3.39390244 2.94101014]\n",
      " [3.79421864 3.39390244 2.94101014]\n",
      " [2.08032238 1.86268026 1.6095397 ]\n",
      " [4.09856972 3.66564064 3.17687668]\n",
      " [1.05911474 0.93730213 0.81290302]\n",
      " [1.02427993 0.92223859 0.79147575]\n",
      " [1.05911474 0.93730213 0.81290302]\n",
      " [3.0970531  2.77162021 2.40073551]\n",
      " [3.0970531  2.77162021 2.40073551]\n",
      " [1.02427993 0.92223859 0.79147575]\n",
      " [3.0970531  2.77162021 2.40073551]\n",
      " [3.0970531  2.77162021 2.40073551]]\n"
     ]
    },
    {
     "data": {
      "image/png": "[encoded data removed]",
      "text/plain": [
       "<Figure size 432x288 with 1 Axes>"
      ]
     },
     "metadata": {
      "needs_background": "light"
     },
     "output_type": "display_data"
    }
   ],
   "source": [
    "radius_centraal_static = np.load(r\"C:\\Users\\Iris Reitsma\\Documents\\Master\\jaar 2\\stage\\root_model\\output\\numpy_files\\Centraal_static_radius.npy\")[0]\n",
    "print(radius_centraal_static)\n",
    "plt.hist(radius_centraal_static)\n",
    "\n",
    "radius_centraal_treedict = np.load(r\"C:\\Users\\Iris Reitsma\\Documents\\Master\\jaar 2\\stage\\root_model\\output\\numpy_files\\Centraal_treedict_radius.npy\")[0]\n",
    "print(radius_centraal_treedict)\n",
    "\n",
    "radius_centraal_treegrowth = np.load(r\"C:\\Users\\Iris Reitsma\\Documents\\Master\\jaar 2\\stage\\root_model\\output\\numpy_files\\Centraal_treegrowth_radius.npy\")[0]\n",
    "print(radius_centraal_treegrowth)"
   ]
  },
  {
   "cell_type": "code",
   "execution_count": 3,
   "metadata": {},
   "outputs": [
    {
     "data": {
      "image/png": "[encoded data removed]",
      "text/plain": [
       "<Figure size 576x288 with 1 Axes>"
      ]
     },
     "metadata": {
      "needs_background": "light"
     },
     "output_type": "display_data"
    }
   ],
   "source": [
    "plt.figure(figsize=(8, 4))\n",
    "tree_numbers = np.arange(1, 20, 1)\n",
    "plt.scatter(tree_numbers-0.2, radius_centraal_static.T[0], alpha=0.5, label='static')\n",
    "plt.scatter(tree_numbers, radius_centraal_treedict.T[0], alpha=0.5, label='treedict')\n",
    "plt.scatter(tree_numbers+0.2, radius_centraal_treegrowth.T[0], alpha=0.5, label='treegrowth')\n",
    "plt.legend()\n",
    "plt.xticks(tree_numbers)\n",
    "plt.xlabel('Tree number', fontsize=14)\n",
    "plt.ylabel('Radius (m)', fontsize=14)\n",
    "plt.vlines(np.arange(1.5, 20.5, 1), 0, 5, color='Black', linestyle='dotted')\n",
    "plt.ylim(0.5, 4.5)\n",
    "plt.xlim(0.5, 19.5)\n",
    "plt.show()"
   ]
  },
  {
   "cell_type": "code",
   "execution_count": 4,
   "metadata": {},
   "outputs": [],
   "source": [
    "mv_centraal_static = np.load(r\"C:\\Users\\Iris Reitsma\\Documents\\Master\\jaar 2\\stage\\root_model\\output\\numpy_files\\Centraal_static_groundlevel.npy\")[0]\n",
    "mv_centraal_treedict = np.load(r\"C:\\Users\\Iris Reitsma\\Documents\\Master\\jaar 2\\stage\\root_model\\output\\numpy_files\\Centraal_treedict_groundlevel.npy\")[0]\n",
    "mv_centraal_treegrowth = np.load(r\"C:\\Users\\Iris Reitsma\\Documents\\Master\\jaar 2\\stage\\root_model\\output\\numpy_files\\Centraal_treegrowth_groundlevel.npy\")[0]\n"
   ]
  },
  {
   "cell_type": "code",
   "execution_count": 5,
   "metadata": {},
   "outputs": [
    {
     "name": "stdout",
     "output_type": "stream",
     "text": [
      "[2.8725 1.5907 0.7075 0.7756 1.4398 1.575  1.9972 2.2578 2.3052 2.5755\n",
      " 2.6254 2.541  2.3851 2.4562 2.6196 2.5471 2.4791 2.564  2.6071]\n",
      "[2.8725 1.5907 0.7075 0.7756 1.4398 1.575  1.9972 2.2578 2.3052 2.5755\n",
      " 2.6254 2.541  2.3851 2.4562 2.6196 2.5471 2.4791 2.564  2.6071]\n",
      "[2.8725 1.5907 0.7075 0.7756 1.4398 1.575  1.9972 2.2578 2.3052 2.5755\n",
      " 2.6254 2.541  2.3851 2.4562 2.6196 2.5471 2.4791 2.564  2.6071]\n"
     ]
    }
   ],
   "source": [
    "print(mv_centraal_static)\n",
    "print(mv_centraal_treedict)\n",
    "print(mv_centraal_treegrowth)"
   ]
  },
  {
   "cell_type": "code",
   "execution_count": 6,
   "metadata": {},
   "outputs": [],
   "source": [
    "gw_centraal_static = np.load(r\"C:\\Users\\Iris Reitsma\\Documents\\Master\\jaar 2\\stage\\root_model\\output\\numpy_files\\Centraal_static_groundwater.npy\")[0]\n",
    "gw_centraal_treedict = np.load(r\"C:\\Users\\Iris Reitsma\\Documents\\Master\\jaar 2\\stage\\root_model\\output\\numpy_files\\Centraal_treedict_groundwater.npy\")[0]\n",
    "gw_centraal_treegrowth = np.load(r\"C:\\Users\\Iris Reitsma\\Documents\\Master\\jaar 2\\stage\\root_model\\output\\numpy_files\\Centraal_treegrowth_groundwater.npy\")[0]\n"
   ]
  },
  {
   "cell_type": "code",
   "execution_count": 7,
   "metadata": {},
   "outputs": [
    {
     "name": "stdout",
     "output_type": "stream",
     "text": [
      "[ 1.6225      0.3407     -0.09074948 -0.09235157  0.1898      0.325\n",
      "  0.7472      1.0078      1.0552      1.3255      1.3754      1.291\n",
      "  1.1351      1.2062      1.3696      1.2971      1.2291      1.314\n",
      "  1.3571    ]\n",
      "[ 1.6225      0.3407     -0.09074948 -0.09235157  0.1898      0.325\n",
      "  0.7472      1.0078      1.0552      1.3255      1.3754      1.291\n",
      "  1.1351      1.2062      1.3696      1.2971      1.2291      1.314\n",
      "  1.3571    ]\n",
      "[ 1.6225      0.3407     -0.09074948 -0.09235157  0.1898      0.325\n",
      "  0.7472      1.0078      1.0552      1.3255      1.3754      1.291\n",
      "  1.1351      1.2062      1.3696      1.2971      1.2291      1.314\n",
      "  1.3571    ]\n"
     ]
    }
   ],
   "source": [
    "print(gw_centraal_static)\n",
    "print(gw_centraal_treedict)\n",
    "print(gw_centraal_treegrowth)"
   ]
  }
 ],
 "metadata": {
  "kernelspec": {
   "display_name": "Python 3",
   "language": "python",
   "name": "python3"
  },
  "language_info": {
   "codemirror_mode": {
    "name": "ipython",
    "version": 3
   },
   "file_extension": ".py",
   "mimetype": "text/x-python",
   "name": "python",
   "nbconvert_exporter": "python",
   "pygments_lexer": "ipython3",
   "version": "3.8.5"
  }
 },
 "nbformat": 4,
 "nbformat_minor": 4
}
