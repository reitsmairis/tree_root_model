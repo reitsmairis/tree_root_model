{
 "cells": [
  {
   "cell_type": "code",
   "execution_count": null,
   "metadata": {},
   "outputs": [],
   "source": []
  },
  {
   "cell_type": "code",
   "execution_count": 5,
   "metadata": {},
   "outputs": [
    {
     "name": "stdout",
     "output_type": "stream",
     "text": [
      "b'\\r\\n\\r\\n<!DOCTYPE html>\\r\\n<html>\\r\\n\\r\\n\\r\\n\\r\\n<head>\\r\\n  <meta http-equiv=\"Content-Type\" content=\"text/html; charset=UTF-8\">  \\r\\n\\t<title>Peilbuizen Amsterdam</title>\\r\\n\\r\\n  <script type=\"text/javascript\" src=\"https://www.google.com/jsapi\"></script>\\r\\n  <script>\\r\\n    google.load(\"visualization\", \"1\", {packages:[\"corechart\"]});\\r\\n    google.setOnLoadCallback(drawChart);\\r\\n\\r\\n\\t  function drawChart() {\\r\\n\\t\\t  var data = google.visualization.arrayToDataTable([\\r\\n\\t\\t    [\\'datum\\', \\'stijghgt\\'],\\r\\n        [\\'30-09-20\\',-0.440000],[\\'17-11-20\\',-0.490000],[\\'20-01-21\\',-0.400000],[\\'21-05-21\\',-0.440000],[\\'26-07-21\\',-0.480000],[\\'01-10-21\\',-0.470000],[\\'03-02-22\\',-0.400000],[\\'31-03-22\\',-0.450000]\\r\\n      ]);\\r\\n\\r\\n      var options = {\\r\\n\\t\\t\\t  height: 150,\\r\\n\\t\\t\\t  pointSize:4,\\r\\n    \\t\\tseries: {0:{color:\\'red\\',lineWidth:2}},\\r\\n\\t\\t\\t  hAxis: {textStyle: {color: \\'#1F2B83\\'}},\\r\\n\\t\\t\\t  legend: {position: \\'none\\'}\\r\\n\\t\\t\\t};\\r\\n      \\r\\n      var chart = new google.visualization.LineChart(document.getElementById(\\'chart_div\\'));\\r\\n      chart.draw(data, options);\\r\\n    };\\r\\n  </script>  \\r\\n  \\r\\n  <style>\\r\\n    html, body { margin: 0; }\\r\\n    body, td, p, input, h1, h2, a, li {\\r\\n    \\tfont-family: Verdana, Arial, Helvetica, sans-serif;\\r\\n    \\tfont-size: 11px;\\r\\n    }\\r\\n    \\r\\n    a, #download {\\r\\n    \\tfont-weight: normal;\\r\\n    \\ttext-decoration: none;\\r\\n    }\\r\\n\\r\\n    .inlineBody { margin-left: 0px; }\\r\\n    .fullPage {  margin-left: 20px; }\\r\\n    .fontBlue, #download { color: #00F; }\\r\\n    .fontBold { font-weight: bold; }\\r\\n    .bgGrijs { background-color: #CCCCCC; }\\r\\n\\r\\n    #data { margin-top: 11px; }\\r\\n    #download a:hover {\\r\\n    \\tbackground-color:#f0f8ff;\\r\\n    \\tcolor:#69F;\\r\\n    }\\r\\n</style>\\r\\n</head>\\r\\n\\r\\n<body class=\"margin-left: 0px;\">\\r\\n\\r\\n  <div id=\\'chart_div\\'></div>\\r\\n\\r\\n\\r\\n  <div id=\"data\">\\r\\n\\t  <table width=\"490\" border=\"0\" style=\"border-collapse: collapse\" cellspacing=\"0\" cellpadding=\"2\">\\r\\n      <tr>\\r\\n        <td width=\"325\" valign=\"top\">\\r\\n        \\r\\n          <span colspan=\"2\" class=\"fontBold fontBlue\">\\r\\n              <span style=\"float: left;\">D06431 Freatisch</span>\\r\\n\\r\\n              <br />\\r\\n              Grondwaterstand ophooglaag (ca. 0-4m -mv)\\r\\n          </span>\\r\\n          <table border=\"0\">\\r\\n            <tr>\\r\\n              <td class=\"bgGrijs\" width=\"95\">Locatie</td>\\r\\n              <td>D06431</td>\\r\\n            </tr><tr>\\r\\n              <td class=\"bgGrijs\">Adres</td>\\r\\n              <td>Raamgracht 4-6</td>\\r\\n            </tr><tr>\\r\\n              <td class=\"bgGrijs\">Status</td>\\r\\n              <td>Actief</td>\\r\\n            </tr><tr>\\r\\n              <td class=\"bgGrijs\">Straathoogte</td>\\r\\n              <td>0.74 m + NAP</td>\\r\\n            </tr><tr>\\r\\n              <td class=\"bgGrijs\">Bovenkant buis</td>\\r\\n              <td>0.63 m + NAP</td>\\r\\n            </tr><tr>\\r\\n              <td class=\"bgGrijs\">Top filter</td>\\r\\n              <td>-1.32 m + NAP</td>\\r\\n            </tr><tr>\\r\\n              <td class=\"bgGrijs\">Bodem filter</td>\\r\\n              <td>-2.32 m + NAP</td>\\r\\n            </tr><tr>\\r\\n              <td class=\"bgGrijs\">Diameter filter</td>\\r\\n              <td>51 mm</td>\\r\\n            </tr><tr>\\r\\n              <td class=\"bgGrijs\">x-co&ouml;rdinaat</td>\\r\\n              <td>121707</td>\\r\\n            </tr><tr>\\r\\n              <td class=\"bgGrijs\">y-co&ouml;rdinaat</td>\\r\\n              <td>486988</td>\\r\\n            </tr>\\r\\n          </table>\\r\\n        \\r\\n        </td>\\r\\n\\t      <td valign=\"top\">\\r\\n\\t        <table width=\"100%\" border=\"1\" style=\"border-collapse: collapse\" cellspacing=\"0\" cellpadding=\"2\">\\r\\n\\t          <tr class=\"bgGrijs\">\\r\\n              <td>datum</td>\\r\\n              <td>meting NAP</td>\\r\\n            </tr>\\r\\n          \\r\\n            <tr bgcolor=\"#FFFFFF\">\\r\\n              <td>31-03-2022</td>\\r\\n              <td>-0.450000</td>\\r\\n            </tr>\\r\\n          \\r\\n            <tr bgcolor=\"#DFDFDF\">\\r\\n              <td>03-02-2022</td>\\r\\n              <td>-0.400000</td>\\r\\n            </tr>\\r\\n          \\r\\n            <tr bgcolor=\"#FFFFFF\">\\r\\n              <td>01-10-2021</td>\\r\\n              <td>-0.470000</td>\\r\\n            </tr>\\r\\n          \\r\\n            <tr bgcolor=\"#DFDFDF\">\\r\\n              <td>26-07-2021</td>\\r\\n              <td>-0.480000</td>\\r\\n            </tr>\\r\\n          \\r\\n            <tr bgcolor=\"#FFFFFF\">\\r\\n              <td>21-05-2021</td>\\r\\n              <td>-0.440000</td>\\r\\n            </tr>\\r\\n          \\r\\n            <tr bgcolor=\"#DFDFDF\">\\r\\n              <td>20-01-2021</td>\\r\\n              <td>-0.400000</td>\\r\\n            </tr>\\r\\n          \\r\\n            <tr bgcolor=\"#FFFFFF\">\\r\\n              <td>17-11-2020</td>\\r\\n              <td>-0.490000</td>\\r\\n            </tr>\\r\\n          \\r\\n            <tr bgcolor=\"#DFDFDF\">\\r\\n              <td>30-09-2020</td>\\r\\n              <td>-0.440000</td>\\r\\n            </tr>\\r\\n          \\r\\n\\t        </table>\\r\\n        </td>\\r\\n      </tr><tr>\\r\\n\\t    <td colspan=\"2\">\\r\\n\\t\\t  <br />\\r\\n\\t\\t  <a rel=\"download\"></a>\\r\\n\\t\\t  <b>Download:</b><br />\\r\\n\\t\\t  \\r\\n\\t\\t      <a href=\"exportFilterData.cfm?result=M0L2Q%3BU9RVPF%3B%3AH95RQ%3BRU%28%3D%23GG4%27G%3D%3C%3FS%5FWI2OFUIKV%27%3ASQ3%5F0W%5FR%5DZ%3D%22%5C6%3B%0A0%5CJV%5DD%28%5DB3%2827%3E%2D%3D%26%5F%2D%22E%40%40%20%20%0A\" target=\"_blank\">\\r\\n\\t\\t      \\r\\n\\t\\t        - Metingen van 1988 t/m 2022 (209 metingen)\\r\\n\\t\\t\\t  \\r\\n\\t\\t\\t  </a><br />\\r\\n\\t\\t    \\r\\n\\t\\t</td>\\r\\n\\t  </tr>\\r\\n    </table>\\r\\n  </div>\\r\\n\\r\\n</body>\\r\\n\\r\\n</html> '\n"
     ]
    }
   ],
   "source": [
    "from urllib.request import urlopen\n",
    "\n",
    "myURL = urlopen(\"https://pims.waternet.nl/maps/peilbuizen.cfm?put=6040\")\n",
    "print(myURL.read())"
   ]
  },
  {
   "cell_type": "code",
   "execution_count": 6,
   "metadata": {},
   "outputs": [
    {
     "name": "stdout",
     "output_type": "stream",
     "text": [
      "b'\\r\\n\\r\\n<!DOCTYPE html>\\r\\n<html>\\r\\n\\r\\n\\r\\n\\r\\n<head>\\r\\n  <meta http-equiv=\"Content-Type\" content=\"text/html; charset=UTF-8\">  \\r\\n\\t<title>Peilbuizen Amsterdam</title>\\r\\n  \\r\\n  <style>\\r\\n    html, body { margin: 0; }\\r\\n    body, td, p, input, h1, h2, a, li {\\r\\n    \\tfont-family: Verdana, Arial, Helvetica, sans-serif;\\r\\n    \\tfont-size: 11px;\\r\\n    }\\r\\n    \\r\\n    a, #download {\\r\\n    \\tfont-weight: normal;\\r\\n    \\ttext-decoration: none;\\r\\n    }\\r\\n\\r\\n    .inlineBody { margin-left: 0px; }\\r\\n    .fullPage {  margin-left: 20px; }\\r\\n    .fontBlue, #download { color: #00F; }\\r\\n    .fontBold { font-weight: bold; }\\r\\n    .bgGrijs { background-color: #CCCCCC; }\\r\\n\\r\\n    #data { margin-top: 11px; }\\r\\n    #download a:hover {\\r\\n    \\tbackground-color:#f0f8ff;\\r\\n    \\tcolor:#69F;\\r\\n    }\\r\\n</style>\\r\\n</head>\\r\\n\\r\\n<body class=\"margin-left: 0px;\">\\r\\n\\r\\n  <div id=\"geenMeting\"><p><p><br>Geen meting gevonden!</p></div>\\r\\n\\r\\n</body>\\r\\n\\r\\n</html> '\n"
     ]
    }
   ],
   "source": [
    "myURL = urlopen(\"https://pims.waternet.nl/maps/peilbuizen.cfm?put=6049\")\n",
    "print(myURL.read())"
   ]
  }
 ],
 "metadata": {
  "kernelspec": {
   "display_name": "Python 3",
   "language": "python",
   "name": "python3"
  },
  "language_info": {
   "codemirror_mode": {
    "name": "ipython",
    "version": 3
   },
   "file_extension": ".py",
   "mimetype": "text/x-python",
   "name": "python",
   "nbconvert_exporter": "python",
   "pygments_lexer": "ipython3",
   "version": "3.8.5"
  }
 },
 "nbformat": 4,
 "nbformat_minor": 4
}
