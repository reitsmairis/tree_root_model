{
 "cells": [
  {
   "cell_type": "code",
   "execution_count": 8,
   "metadata": {},
   "outputs": [],
   "source": [
    "import numpy as np\n",
    "import matplotlib.pyplot as plt"
   ]
  },
  {
   "cell_type": "code",
   "execution_count": 21,
   "metadata": {},
   "outputs": [
    {
     "name": "stdout",
     "output_type": "stream",
     "text": [
      "[[2.45561855 2.19594685 1.90113194]\n",
      " [2.12662805 1.90247092 1.65093351]\n",
      " [2.30812312 2.06367531 1.79387637]\n",
      " [2.38881278 2.13650467 1.85538062]\n",
      " [2.75841975 2.46717122 2.1365833 ]\n",
      " [2.90806758 2.60017345 2.2503551 ]\n",
      " [1.46718222 1.31574366 1.13325826]\n",
      " [2.60653145 2.33277213 2.02228717]\n",
      " [3.7624297  3.3655221  2.91637449]\n",
      " [1.40572678 1.26106153 1.08582679]\n",
      " [4.06915911 3.63937997 3.15408386]\n",
      " [0.93412713 0.84238877 0.72192755]\n",
      " [0.9802405  0.88321652 0.75750025]\n",
      " [1.03663599 0.91669957 0.79468661]\n",
      " [2.58839458 2.31524048 2.00288627]\n",
      " [2.12662805 1.90247092 1.65093351]\n",
      " [1.13007047 1.00482783 0.8812923 ]\n",
      " [1.80446611 1.61611841 1.39359776]\n",
      " [2.58839458 2.31524048 2.00288627]]\n",
      "[[2.58839458 2.31524048 2.00288627]\n",
      " [3.05802551 2.73679444 2.37049162]\n",
      " [2.78207292 2.49012379 2.15257755]\n",
      " [3.42608032 3.06685173 2.65585644]\n",
      " [3.42836676 3.06731013 2.65748666]\n",
      " [3.42836676 3.06731013 2.65748666]\n",
      " [2.12213295 1.89990371 1.64191124]\n",
      " [3.7624297  3.3655221  2.91637449]\n",
      " [3.7624297  3.3655221  2.91637449]\n",
      " [2.03765408 1.82469762 1.5765036 ]\n",
      " [4.06915911 3.63937997 3.15408386]\n",
      " [1.39846199 1.25650986 1.08151871]\n",
      " [1.7623438  1.58187867 1.36653503]\n",
      " [1.69281948 1.52003466 1.31267571]\n",
      " [3.05802551 2.73679444 2.37049162]\n",
      " [3.05802551 2.73679444 2.37049162]\n",
      " [1.7623438  1.58187867 1.36653503]\n",
      " [3.05802551 2.73679444 2.37049162]\n",
      " [2.58839458 2.31524048 2.00288627]]\n",
      "[[3.05802551 2.73679444 2.37049162]\n",
      " [3.05802551 2.73679444 2.37049162]\n",
      " [3.29881157 2.95378853 2.55727637]\n",
      " [3.42608032 3.06685173 2.65585644]\n",
      " [3.42836676 3.06731013 2.65748666]\n",
      " [3.42836676 3.06731013 2.65748666]\n",
      " [2.12213295 1.89990371 1.64191124]\n",
      " [3.7624297  3.3655221  2.91637449]\n",
      " [3.7624297  3.3655221  2.91637449]\n",
      " [2.03765408 1.82469762 1.5765036 ]\n",
      " [4.06915911 3.63937997 3.15408386]\n",
      " [1.03663599 0.91669957 0.79468661]\n",
      " [1.05911474 0.93730213 0.81290302]\n",
      " [1.03663599 0.91669957 0.79468661]\n",
      " [3.05802551 2.73679444 2.37049162]\n",
      " [3.05802551 2.73679444 2.37049162]\n",
      " [1.05911474 0.93730213 0.81290302]\n",
      " [3.05802551 2.73679444 2.37049162]\n",
      " [3.05802551 2.73679444 2.37049162]]\n"
     ]
    },
    {
     "data": {
      "image/png": "[encoded data removed]",
      "text/plain": [
       "<Figure size 432x288 with 1 Axes>"
      ]
     },
     "metadata": {
      "needs_background": "light"
     },
     "output_type": "display_data"
    }
   ],
   "source": [
    "radius_centraal_static = np.load(r\"C:\\Users\\Iris Reitsma\\Documents\\Master\\jaar 2\\stage\\root_model\\output\\numpy_files\\Centraal_static_radius.npy\")[0]\n",
    "print(radius_centraal_static)\n",
    "plt.hist(radius_centraal_static)\n",
    "\n",
    "radius_centraal_treedict = np.load(r\"C:\\Users\\Iris Reitsma\\Documents\\Master\\jaar 2\\stage\\root_model\\output\\numpy_files\\Centraal_treedict_radius.npy\")[0]\n",
    "print(radius_centraal_treedict)\n",
    "\n",
    "radius_centraal_treegrowth = np.load(r\"C:\\Users\\Iris Reitsma\\Documents\\Master\\jaar 2\\stage\\root_model\\output\\numpy_files\\Centraal_treegrowth_radius.npy\")[0]\n",
    "print(radius_centraal_treegrowth)"
   ]
  },
  {
   "cell_type": "code",
   "execution_count": 67,
   "metadata": {},
   "outputs": [
    {
     "data": {
      "image/png": "[encoded data removed]",
      "text/plain": [
       "<Figure size 576x288 with 1 Axes>"
      ]
     },
     "metadata": {
      "needs_background": "light"
     },
     "output_type": "display_data"
    }
   ],
   "source": [
    "plt.figure(figsize=(8, 4))\n",
    "tree_numbers = np.arange(1, 20, 1)\n",
    "plt.scatter(tree_numbers-0.2, radius_centraal_static.T[0], alpha=0.5, label='static')\n",
    "plt.scatter(tree_numbers, radius_centraal_treedict.T[0], alpha=0.5, label='treedict')\n",
    "plt.scatter(tree_numbers+0.2, radius_centraal_treegrowth.T[0], alpha=0.5, label='treegrowth')\n",
    "plt.legend()\n",
    "plt.xticks(tree_numbers)\n",
    "plt.xlabel('Tree number', fontsize=14)\n",
    "plt.ylabel('Radius (m)', fontsize=14)\n",
    "plt.vlines(np.arange(1.5, 20.5, 1), 0, 5, color='Black', linestyle='dotted')\n",
    "plt.ylim(0.5, 4.5)\n",
    "plt.xlim(0.5, 19.5)\n",
    "plt.show()"
   ]
  },
  {
   "cell_type": "code",
   "execution_count": 16,
   "metadata": {},
   "outputs": [],
   "source": [
    "mv_centraal_static = np.load(r\"C:\\Users\\Iris Reitsma\\Documents\\Master\\jaar 2\\stage\\root_model\\output\\numpy_files\\Centraal_static_groundlevel.npy\")[0]\n",
    "mv_centraal_treedict = np.load(r\"C:\\Users\\Iris Reitsma\\Documents\\Master\\jaar 2\\stage\\root_model\\output\\numpy_files\\Centraal_treedict_groundlevel.npy\")[0]\n",
    "mv_centraal_treegrowth = np.load(r\"C:\\Users\\Iris Reitsma\\Documents\\Master\\jaar 2\\stage\\root_model\\output\\numpy_files\\Centraal_treegrowth_groundlevel.npy\")[0]\n"
   ]
  },
  {
   "cell_type": "code",
   "execution_count": 17,
   "metadata": {},
   "outputs": [
    {
     "name": "stdout",
     "output_type": "stream",
     "text": [
      "[2.8725 1.5907 0.7075 0.7756 1.4398 1.575  1.9972 2.2578 2.3052 2.5755\n",
      " 2.6254 2.541  2.3851 2.4562 2.6196 2.5471 2.4791 2.564  2.6071]\n",
      "[2.8725 1.5907 0.7075 0.7756 1.4398 1.575  1.9972 2.2578 2.3052 2.5755\n",
      " 2.6254 2.541  2.3851 2.4562 2.6196 2.5471 2.4791 2.564  2.6071]\n",
      "[2.8725 1.5907 0.7075 0.7756 1.4398 1.575  1.9972 2.2578 2.3052 2.5755\n",
      " 2.6254 2.541  2.3851 2.4562 2.6196 2.5471 2.4791 2.564  2.6071]\n"
     ]
    }
   ],
   "source": [
    "print(mv_centraal_static)\n",
    "print(mv_centraal_treedict)\n",
    "print(mv_centraal_treegrowth)"
   ]
  },
  {
   "cell_type": "code",
   "execution_count": 18,
   "metadata": {},
   "outputs": [],
   "source": [
    "gw_centraal_static = np.load(r\"C:\\Users\\Iris Reitsma\\Documents\\Master\\jaar 2\\stage\\root_model\\output\\numpy_files\\Centraal_static_groundwater.npy\")[0]\n",
    "gw_centraal_treedict = np.load(r\"C:\\Users\\Iris Reitsma\\Documents\\Master\\jaar 2\\stage\\root_model\\output\\numpy_files\\Centraal_treedict_groundwater.npy\")[0]\n",
    "gw_centraal_treegrowth = np.load(r\"C:\\Users\\Iris Reitsma\\Documents\\Master\\jaar 2\\stage\\root_model\\output\\numpy_files\\Centraal_treegrowth_groundwater.npy\")[0]\n"
   ]
  },
  {
   "cell_type": "code",
   "execution_count": 19,
   "metadata": {},
   "outputs": [
    {
     "name": "stdout",
     "output_type": "stream",
     "text": [
      "[ 1.6225      0.3407     -0.09074948 -0.09235157  0.1898      0.325\n",
      "  0.7472      1.0078      1.0552      1.3255      1.3754      1.291\n",
      "  1.1351      1.2062      1.3696      1.2971      1.2291      1.314\n",
      "  1.3571    ]\n",
      "[ 1.6225      0.3407     -0.09074948 -0.09235157  0.1898      0.325\n",
      "  0.7472      1.0078      1.0552      1.3255      1.3754      1.291\n",
      "  1.1351      1.2062      1.3696      1.2971      1.2291      1.314\n",
      "  1.3571    ]\n",
      "[ 1.6225      0.3407     -0.09074948 -0.09235157  0.1898      0.325\n",
      "  0.7472      1.0078      1.0552      1.3255      1.3754      1.291\n",
      "  1.1351      1.2062      1.3696      1.2971      1.2291      1.314\n",
      "  1.3571    ]\n"
     ]
    }
   ],
   "source": [
    "print(gw_centraal_static)\n",
    "print(gw_centraal_treedict)\n",
    "print(gw_centraal_treegrowth)"
   ]
  }
 ],
 "metadata": {
  "kernelspec": {
   "display_name": "Python 3",
   "language": "python",
   "name": "python3"
  },
  "language_info": {
   "codemirror_mode": {
    "name": "ipython",
    "version": 3
   },
   "file_extension": ".py",
   "mimetype": "text/x-python",
   "name": "python",
   "nbconvert_exporter": "python",
   "pygments_lexer": "ipython3",
   "version": "3.8.5"
  }
 },
 "nbformat": 4,
 "nbformat_minor": 4
}
