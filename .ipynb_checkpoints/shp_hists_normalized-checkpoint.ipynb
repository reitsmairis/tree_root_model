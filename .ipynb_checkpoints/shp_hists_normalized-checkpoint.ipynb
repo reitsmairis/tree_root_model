{
 "cells": [
  {
   "cell_type": "code",
   "execution_count": 1,
   "metadata": {},
   "outputs": [],
   "source": [
    "import json\n",
    "import numpy as np\n",
    "import pandas as pd\n",
    "import matplotlib.pyplot as plt\n",
    "from matplotlib import cm\n",
    "from matplotlib.patches import Patch\n",
    "from matplotlib.lines import Line2D"
   ]
  },
  {
   "cell_type": "code",
   "execution_count": 2,
   "metadata": {},
   "outputs": [],
   "source": [
    "def plotfunc(df_static, df_treedict, df_treegrowth, static_points, treedict_points, treegrowth_points, xlim, area):\n",
    "    dim = 1/30\n",
    "    bins = np.linspace(0-dim, 1+dim, 16)\n",
    "    print(bins)\n",
    "    fig, axs = plt.subplots(1, 3, sharex=True, sharey=True, figsize=(10,3))\n",
    "    \n",
    "    axs[1].hist([df_treedict['count'], treedict_points], bins=bins, stacked=True, color=['black', 'blue'])\n",
    "    axs[1].set_title('tree dictionary')\n",
    "    axs[1].set_xlabel('intersection score', fontsize=14)\n",
    "\n",
    "    axs[0].hist([df_static['count'], static_points], bins=bins, stacked=True, color=['black', 'blue'])\n",
    "    axs[0].set_ylabel('frequency', fontsize=14)\n",
    "    axs[0].set_title('static')\n",
    "    axs[0].set_xlabel('intersection score', fontsize=14)\n",
    "    \n",
    "    axs[2].hist([df_treegrowth['count'], treegrowth_points], bins=bins, stacked=True, color=['black', 'blue'])\n",
    "    axs[2].set_title('tree growth')\n",
    "    axs[2].set_xlabel('intersection score', fontsize=14)\n",
    "\n",
    "    plt.xlim(xlim[0], xlim[1])\n",
    "    \n",
    "    legend_elements = [Patch(facecolor='black', edgecolor='black', label='shapefiles'),\n",
    "                    Patch(facecolor='blue', edgecolor='blue', label='points')\n",
    "                    ]\n",
    "    axs[0].legend(handles=legend_elements, loc='upper left')\n",
    "\n",
    "    plt.tight_layout()\n",
    "#     fig.autofmt_xdate()\n",
    "    plt.savefig('plots/hists_normalized_{}'.format(area), dpi=300)\n",
    "    plt.show()"
   ]
  },
  {
   "cell_type": "code",
   "execution_count": 3,
   "metadata": {},
   "outputs": [],
   "source": [
    "# def plotfunc(df_static, df_treedict, df_treegrowth, static_points, treedict_points, treegrowth_points, xlim):\n",
    "#     dim = 1/30\n",
    "#     bins = np.linspace(0-dim, 1+dim, 16)\n",
    "#     print(bins)\n",
    "#     fig, axs = plt.subplots(2, 2, sharex=True, sharey=True, figsize=(10,10))\n",
    "\n",
    "#     axs[0,0].axis('off')\n",
    "    \n",
    "#     axs[1, 0].hist([df_treedict['count'], treedict_points], bins=bins, stacked=True, color=['black', 'blue'])\n",
    "#     axs[1, 0].set_title('tree dictionary')\n",
    "#     axs[1, 0].set_ylabel('frequency', fontsize=14)\n",
    "#     axs[1, 0].set_xlabel('intersection score', fontsize=14)\n",
    "\n",
    "#     axs[0, 1].hist([df_static['count'], static_points], bins=bins, stacked=True, color=['black', 'blue'])\n",
    "#     axs[0, 1].set_ylabel('frequency', fontsize=14)\n",
    "#     axs[0, 1].set_title('static')\n",
    "\n",
    "#     axs[1, 1].hist([df_treegrowth['count'], treegrowth_points], bins=bins, stacked=True, color=['black', 'blue'])\n",
    "#     axs[1, 1].set_title('tree growth')\n",
    "#     axs[1, 1].set_xlabel('intersection score', fontsize=14)\n",
    "\n",
    "#     plt.xlim(xlim[0], xlim[1])\n",
    "    \n",
    "#     legend_elements = [Patch(facecolor='black', edgecolor='black', label='shapefile inspection'),\n",
    "#                     Patch(facecolor='blue', edgecolor='blue', label='point inspection')\n",
    "#                     ]\n",
    "#     axs[0,0].legend(handles=legend_elements, loc='center')\n",
    "\n",
    "# #     plt.tight_layout()\n",
    "# #     fig.autofmt_xdate()\n",
    "#     plt.show()"
   ]
  },
  {
   "cell_type": "markdown",
   "metadata": {},
   "source": [
    "# Wallengebied"
   ]
  },
  {
   "cell_type": "code",
   "execution_count": 4,
   "metadata": {},
   "outputs": [
    {
     "data": {
      "text/html": [
       "<div>\n",
       "<style scoped>\n",
       "    .dataframe tbody tr th:only-of-type {\n",
       "        vertical-align: middle;\n",
       "    }\n",
       "\n",
       "    .dataframe tbody tr th {\n",
       "        vertical-align: top;\n",
       "    }\n",
       "\n",
       "    .dataframe thead th {\n",
       "        text-align: right;\n",
       "    }\n",
       "</style>\n",
       "<table border=\"1\" class=\"dataframe\">\n",
       "  <thead>\n",
       "    <tr style=\"text-align: right;\">\n",
       "      <th></th>\n",
       "      <th>uid</th>\n",
       "      <th>type</th>\n",
       "      <th>parents</th>\n",
       "      <th>children</th>\n",
       "      <th>attribute.function</th>\n",
       "    </tr>\n",
       "  </thead>\n",
       "  <tbody>\n",
       "    <tr>\n",
       "      <th>0</th>\n",
       "      <td>id-339738_marginal</td>\n",
       "      <td>SolitaryVegetationObject</td>\n",
       "      <td>NaN</td>\n",
       "      <td>NaN</td>\n",
       "      <td>something</td>\n",
       "    </tr>\n",
       "    <tr>\n",
       "      <th>1</th>\n",
       "      <td>id-348099_marginal</td>\n",
       "      <td>SolitaryVegetationObject</td>\n",
       "      <td>NaN</td>\n",
       "      <td>NaN</td>\n",
       "      <td>something</td>\n",
       "    </tr>\n",
       "    <tr>\n",
       "      <th>2</th>\n",
       "      <td>id-339736_marginal</td>\n",
       "      <td>SolitaryVegetationObject</td>\n",
       "      <td>NaN</td>\n",
       "      <td>NaN</td>\n",
       "      <td>something</td>\n",
       "    </tr>\n",
       "    <tr>\n",
       "      <th>3</th>\n",
       "      <td>id-348098_marginal</td>\n",
       "      <td>SolitaryVegetationObject</td>\n",
       "      <td>NaN</td>\n",
       "      <td>NaN</td>\n",
       "      <td>something</td>\n",
       "    </tr>\n",
       "    <tr>\n",
       "      <th>4</th>\n",
       "      <td>id-339969_marginal</td>\n",
       "      <td>SolitaryVegetationObject</td>\n",
       "      <td>NaN</td>\n",
       "      <td>NaN</td>\n",
       "      <td>something</td>\n",
       "    </tr>\n",
       "    <tr>\n",
       "      <th>...</th>\n",
       "      <td>...</td>\n",
       "      <td>...</td>\n",
       "      <td>...</td>\n",
       "      <td>...</td>\n",
       "      <td>...</td>\n",
       "    </tr>\n",
       "    <tr>\n",
       "      <th>195</th>\n",
       "      <td>id-347649_marginal</td>\n",
       "      <td>SolitaryVegetationObject</td>\n",
       "      <td>NaN</td>\n",
       "      <td>NaN</td>\n",
       "      <td>something</td>\n",
       "    </tr>\n",
       "    <tr>\n",
       "      <th>196</th>\n",
       "      <td>id-340202_marginal</td>\n",
       "      <td>SolitaryVegetationObject</td>\n",
       "      <td>NaN</td>\n",
       "      <td>NaN</td>\n",
       "      <td>something</td>\n",
       "    </tr>\n",
       "    <tr>\n",
       "      <th>197</th>\n",
       "      <td>id-340200_marginal</td>\n",
       "      <td>SolitaryVegetationObject</td>\n",
       "      <td>NaN</td>\n",
       "      <td>NaN</td>\n",
       "      <td>something</td>\n",
       "    </tr>\n",
       "    <tr>\n",
       "      <th>198</th>\n",
       "      <td>id-347172_marginal</td>\n",
       "      <td>SolitaryVegetationObject</td>\n",
       "      <td>NaN</td>\n",
       "      <td>NaN</td>\n",
       "      <td>something</td>\n",
       "    </tr>\n",
       "    <tr>\n",
       "      <th>199</th>\n",
       "      <td>id-339742_marginal</td>\n",
       "      <td>SolitaryVegetationObject</td>\n",
       "      <td>NaN</td>\n",
       "      <td>NaN</td>\n",
       "      <td>something</td>\n",
       "    </tr>\n",
       "  </tbody>\n",
       "</table>\n",
       "<p>200 rows × 5 columns</p>\n",
       "</div>"
      ],
      "text/plain": [
       "                    uid                      type  parents  children  \\\n",
       "0    id-339738_marginal  SolitaryVegetationObject      NaN       NaN   \n",
       "1    id-348099_marginal  SolitaryVegetationObject      NaN       NaN   \n",
       "2    id-339736_marginal  SolitaryVegetationObject      NaN       NaN   \n",
       "3    id-348098_marginal  SolitaryVegetationObject      NaN       NaN   \n",
       "4    id-339969_marginal  SolitaryVegetationObject      NaN       NaN   \n",
       "..                  ...                       ...      ...       ...   \n",
       "195  id-347649_marginal  SolitaryVegetationObject      NaN       NaN   \n",
       "196  id-340202_marginal  SolitaryVegetationObject      NaN       NaN   \n",
       "197  id-340200_marginal  SolitaryVegetationObject      NaN       NaN   \n",
       "198  id-347172_marginal  SolitaryVegetationObject      NaN       NaN   \n",
       "199  id-339742_marginal  SolitaryVegetationObject      NaN       NaN   \n",
       "\n",
       "    attribute.function  \n",
       "0            something  \n",
       "1            something  \n",
       "2            something  \n",
       "3            something  \n",
       "4            something  \n",
       "..                 ...  \n",
       "195          something  \n",
       "196          something  \n",
       "197          something  \n",
       "198          something  \n",
       "199          something  \n",
       "\n",
       "[200 rows x 5 columns]"
      ]
     },
     "metadata": {},
     "output_type": "display_data"
    }
   ],
   "source": [
    "# retrieve static method shapefile results and merge on id\n",
    "df_wallen_static = pd.read_csv(r\"C:\\Users\\Iris Reitsma\\Documents\\Master\\jaar 2\\stage\\validatie\\wallengebied_2020_static.csv\")\n",
    "df_wallen_static_pol = pd.read_csv(r\"C:\\Users\\Iris Reitsma\\Documents\\Master\\jaar 2\\stage\\validatie\\wallen_static_polygonen.csv\")\n",
    "display(df_wallen_static_pol)\n",
    "id_wallen_static_pol = []\n",
    "for i, row in df_wallen_static_pol.iterrows():\n",
    "    number = row['uid'][3:9]\n",
    "    id_wallen_static_pol.append(int(number))\n",
    "df_wallen_static_pol_2 = df_wallen_static[df_wallen_static['number'].isin(id_wallen_static_pol)]"
   ]
  },
  {
   "cell_type": "code",
   "execution_count": 53,
   "metadata": {},
   "outputs": [
    {
     "name": "stdout",
     "output_type": "stream",
     "text": [
      "1.000000    370\n",
      "0.733333     87\n",
      "0.666667     77\n",
      "0.800000     51\n",
      "0.866667     42\n",
      "0.600000     21\n",
      "0.933333     16\n",
      "0.466667     10\n",
      "0.533333     10\n",
      "0.400000      3\n",
      "0.133333      2\n",
      "0.266667      1\n",
      "0.066667      1\n",
      "0.333333      1\n",
      "Name: count, dtype: int64\n",
      "1.000000    124\n",
      "0.866667     22\n",
      "0.800000     15\n",
      "0.733333     13\n",
      "0.666667     11\n",
      "0.933333      8\n",
      "0.600000      4\n",
      "0.466667      2\n",
      "0.533333      1\n",
      "Name: count, dtype: int64\n",
      "0.066667         NaN\n",
      "0.133333         NaN\n",
      "0.266667         NaN\n",
      "0.333333         NaN\n",
      "0.400000         NaN\n",
      "0.466667    0.200000\n",
      "0.533333    0.100000\n",
      "0.600000    0.190476\n",
      "0.666667    0.142857\n",
      "0.733333    0.149425\n",
      "0.800000    0.294118\n",
      "0.866667    0.523810\n",
      "0.933333    0.500000\n",
      "1.000000    0.335135\n",
      "Name: count, dtype: float64\n",
      "Float64Index([0.0666666666666666, 0.1333333333333333, 0.2666666666666666,\n",
      "              0.3333333333333333,                0.4, 0.4666666666666667,\n",
      "              0.5333333333333333,                0.6, 0.6666666666666666,\n",
      "              0.7333333333333333,                0.8, 0.8666666666666667,\n",
      "              0.9333333333333332,                1.0],\n",
      "             dtype='float64')\n"
     ]
    },
    {
     "data": {
      "text/plain": [
       "<matplotlib.collections.PathCollection at 0x1f237201400>"
      ]
     },
     "execution_count": 53,
     "metadata": {},
     "output_type": "execute_result"
    },
    {
     "data": {
      "image/png": "[encoded data removed]",
      "text/plain": [
       "<Figure size 432x288 with 1 Axes>"
      ]
     },
     "metadata": {
      "needs_background": "light"
     },
     "output_type": "display_data"
    }
   ],
   "source": [
    "occurence_wallen_static = df_wallen_static['count'].value_counts()\n",
    "occurence_shapefiles = df_wallen_static_pol_2['count'].value_counts()\n",
    "print(occurence_wallen_static)\n",
    "print(occurence_shapefiles)\n",
    "print(occurence_shapefiles/ occurence_wallen_static)\n",
    "\n",
    "\n",
    "normalize = occurence_shapefiles/ occurence_wallen_static\n",
    "print(normalize.keys())\n",
    "plt.scatter(normalize.keys(), normalize)\n"
   ]
  },
  {
   "cell_type": "code",
   "execution_count": 6,
   "metadata": {},
   "outputs": [],
   "source": [
    "# retrieve treedict method shapefile results and merge on id\n",
    "df_wallen_treedict = pd.read_csv(r\"C:\\Users\\Iris Reitsma\\Documents\\Master\\jaar 2\\stage\\validatie\\wallengebied_2020_treedict.csv\")\n",
    "df_wallen_treedict_pol = pd.read_csv(r\"C:\\Users\\Iris Reitsma\\Documents\\Master\\jaar 2\\stage\\validatie\\wallen_treedict_polygonen.csv\")\n",
    "id_wallen_treedict_pol = []\n",
    "for i, row in df_wallen_treedict_pol.iterrows():\n",
    "    number = row['uid'][3:9]\n",
    "    id_wallen_treedict_pol.append(int(number))\n",
    "df_wallen_treedict_pol_2 = df_wallen_treedict[df_wallen_treedict['number'].isin(id_wallen_treedict_pol)]"
   ]
  },
  {
   "cell_type": "code",
   "execution_count": 7,
   "metadata": {},
   "outputs": [],
   "source": [
    "# retrieve treegrowth method shapefile results and merge on id\n",
    "df_wallen_treegrowth = pd.read_csv(r\"C:\\Users\\Iris Reitsma\\Documents\\Master\\jaar 2\\stage\\validatie\\wallengebied_2020_treegrowth.csv\")\n",
    "df_wallen_treegrowth_pol = pd.read_csv(r\"C:\\Users\\Iris Reitsma\\Documents\\Master\\jaar 2\\stage\\validatie\\wallen_treegrowth_polygonen.csv\")\n",
    "id_wallen_treegrowth_pol = []\n",
    "for i, row in df_wallen_treegrowth_pol.iterrows():\n",
    "    number = row['uid'][3:9]\n",
    "    id_wallen_treegrowth_pol.append(int(number))\n",
    "df_wallen_treegrowth_pol_2 = df_wallen_treegrowth[df_wallen_treegrowth['number'].isin(id_wallen_treegrowth_pol)]"
   ]
  },
  {
   "cell_type": "code",
   "execution_count": 8,
   "metadata": {},
   "outputs": [],
   "source": [
    "# retrieve results from point intersection\n",
    "wallen_static_points = np.load(r\"C:\\Users\\Iris Reitsma\\Documents\\Master\\jaar 2\\stage\\validatie\\wallen_static_punten.npy\")\n",
    "wallen_treedict_points = np.load(r\"C:\\Users\\Iris Reitsma\\Documents\\Master\\jaar 2\\stage\\validatie\\wallen_treedict_punten.npy\")\n",
    "wallen_treegrowth_points = np.load(r\"C:\\Users\\Iris Reitsma\\Documents\\Master\\jaar 2\\stage\\validatie\\wallen_treegrowth_punten.npy\")"
   ]
  },
  {
   "cell_type": "code",
   "execution_count": 9,
   "metadata": {},
   "outputs": [
    {
     "name": "stdout",
     "output_type": "stream",
     "text": [
      "[-0.03333333  0.03777778  0.10888889  0.18        0.25111111  0.32222222\n",
      "  0.39333333  0.46444444  0.53555556  0.60666667  0.67777778  0.74888889\n",
      "  0.82        0.89111111  0.96222222  1.03333333]\n"
     ]
    },
    {
     "data": {
      "image/png": "[encoded data removed]",
      "text/plain": [
       "<Figure size 720x216 with 3 Axes>"
      ]
     },
     "metadata": {
      "needs_background": "light"
     },
     "output_type": "display_data"
    }
   ],
   "source": [
    "xlim = (0.2-1/30, 1+1/30)\n",
    "area = 'wallen'\n",
    "plotfunc(df_wallen_static_pol_2 , df_wallen_treedict_pol_2 , df_wallen_treegrowth_pol_2, wallen_static_points, wallen_treedict_points, wallen_treegrowth_points, xlim, area)"
   ]
  },
  {
   "cell_type": "markdown",
   "metadata": {},
   "source": [
    "# IJburg"
   ]
  },
  {
   "cell_type": "code",
   "execution_count": 10,
   "metadata": {},
   "outputs": [],
   "source": [
    "# retrieve static method shapefile results and merge on id\n",
    "df_ijburg_static = pd.read_csv(r\"C:\\Users\\Iris Reitsma\\Documents\\Master\\jaar 2\\stage\\validatie\\ijburg_2020_static.csv\")\n",
    "df_ijburg_static_pol = pd.read_csv(r\"C:\\Users\\Iris Reitsma\\Documents\\Master\\jaar 2\\stage\\validatie\\ijburg_static_polygonen.csv\")\n",
    "id_ijburg_static_pol = []\n",
    "for i, row in df_ijburg_static_pol.iterrows():\n",
    "    number = row['uid'][3:9]\n",
    "    id_ijburg_static_pol.append(int(number))\n",
    "df_ijburg_static_pol_2 = df_ijburg_static[df_ijburg_static['number'].isin(id_ijburg_static_pol)]\n",
    "\n",
    "# retrieve treedict method shapefile results and merge on id\n",
    "df_ijburg_treedict = pd.read_csv(r\"C:\\Users\\Iris Reitsma\\Documents\\Master\\jaar 2\\stage\\validatie\\ijburg_2020_treedict.csv\")\n",
    "df_ijburg_treedict_pol = pd.read_csv(r\"C:\\Users\\Iris Reitsma\\Documents\\Master\\jaar 2\\stage\\validatie\\ijburg_treedict_polygonen.csv\")\n",
    "id_ijburg_treedict_pol = []\n",
    "for i, row in df_ijburg_treedict_pol.iterrows():\n",
    "    number = row['uid'][3:9]\n",
    "    id_ijburg_treedict_pol.append(int(number))\n",
    "df_ijburg_treedict_pol_2 = df_ijburg_treedict[df_ijburg_treedict['number'].isin(id_ijburg_treedict_pol)]\n",
    "\n",
    "# retrieve treegrowth method shapefile results and merge on id\n",
    "df_ijburg_treegrowth = pd.read_csv(r\"C:\\Users\\Iris Reitsma\\Documents\\Master\\jaar 2\\stage\\validatie\\ijburg_2020_treegrowth.csv\")\n",
    "df_ijburg_treegrowth_pol = pd.read_csv(r\"C:\\Users\\Iris Reitsma\\Documents\\Master\\jaar 2\\stage\\validatie\\ijburg_treegrowth_polygonen.csv\")\n",
    "id_ijburg_treegrowth_pol = []\n",
    "for i, row in df_ijburg_treegrowth_pol.iterrows():\n",
    "    number = row['uid'][3:9]\n",
    "    id_ijburg_treegrowth_pol.append(int(number))\n",
    "df_ijburg_treegrowth_pol_2 = df_ijburg_treegrowth[df_ijburg_treegrowth['number'].isin(id_ijburg_treegrowth_pol)]"
   ]
  },
  {
   "cell_type": "code",
   "execution_count": 11,
   "metadata": {},
   "outputs": [],
   "source": [
    "# retrieve results from point intersection\n",
    "ijburg_static_points = np.load(r\"C:\\Users\\Iris Reitsma\\Documents\\Master\\jaar 2\\stage\\validatie\\ijburg_static_punten.npy\")\n",
    "ijburg_treedict_points = np.load(r\"C:\\Users\\Iris Reitsma\\Documents\\Master\\jaar 2\\stage\\validatie\\ijburg_treedict_punten.npy\")\n",
    "ijburg_treegrowth_points = np.load(r\"C:\\Users\\Iris Reitsma\\Documents\\Master\\jaar 2\\stage\\validatie\\ijburg_treegrowth_punten.npy\")\n"
   ]
  },
  {
   "cell_type": "code",
   "execution_count": 12,
   "metadata": {},
   "outputs": [
    {
     "name": "stdout",
     "output_type": "stream",
     "text": [
      "[-0.03333333  0.03777778  0.10888889  0.18        0.25111111  0.32222222\n",
      "  0.39333333  0.46444444  0.53555556  0.60666667  0.67777778  0.74888889\n",
      "  0.82        0.89111111  0.96222222  1.03333333]\n"
     ]
    },
    {
     "data": {
      "image/png": "[encoded data removed]",
      "text/plain": [
       "<Figure size 720x216 with 3 Axes>"
      ]
     },
     "metadata": {
      "needs_background": "light"
     },
     "output_type": "display_data"
    }
   ],
   "source": [
    "xlim = (0.2-1/30, 1+1/30)\n",
    "area = 'ijburg'\n",
    "plotfunc(df_ijburg_static_pol_2 , df_ijburg_treedict_pol_2 , df_ijburg_treegrowth_pol_2, ijburg_static_points, ijburg_treedict_points, ijburg_treegrowth_points, xlim, area)"
   ]
  },
  {
   "cell_type": "markdown",
   "metadata": {},
   "source": [
    "# Sarphatipark\n"
   ]
  },
  {
   "cell_type": "code",
   "execution_count": 13,
   "metadata": {},
   "outputs": [],
   "source": [
    "# retrieve static method shapefile results and merge on id\n",
    "df_sarphati_static = pd.read_csv(r\"C:\\Users\\Iris Reitsma\\Documents\\Master\\jaar 2\\stage\\validatie\\sarphati_2020_static.csv\")\n",
    "df_sarphati_static_pol = pd.read_csv(r\"C:\\Users\\Iris Reitsma\\Documents\\Master\\jaar 2\\stage\\validatie\\sarphati_static_polygonen.csv\")\n",
    "id_sarphati_static_pol = []\n",
    "for i, row in df_sarphati_static_pol.iterrows():\n",
    "    number = row['uid'][3:9]\n",
    "    id_sarphati_static_pol.append(int(number))\n",
    "df_sarphati_static_pol_2 = df_sarphati_static[df_sarphati_static['number'].isin(id_sarphati_static_pol)]\n",
    "\n",
    "# retrieve treedict method shapefile results and merge on id\n",
    "df_sarphati_treedict = pd.read_csv(r\"C:\\Users\\Iris Reitsma\\Documents\\Master\\jaar 2\\stage\\validatie\\sarphati_2020_treedict.csv\")\n",
    "df_sarphati_treedict_pol = pd.read_csv(r\"C:\\Users\\Iris Reitsma\\Documents\\Master\\jaar 2\\stage\\validatie\\sarphati_treedict_polygonen.csv\")\n",
    "id_sarphati_treedict_pol = []\n",
    "for i, row in df_sarphati_treedict_pol.iterrows():\n",
    "    number = row['uid'][3:9]\n",
    "    id_sarphati_treedict_pol.append(int(number))\n",
    "df_sarphati_treedict_pol_2 = df_sarphati_treedict[df_sarphati_treedict['number'].isin(id_sarphati_treedict_pol)]\n",
    "\n",
    "# retrieve treegrowth method shapefile results and merge on id\n",
    "df_sarphati_treegrowth = pd.read_csv(r\"C:\\Users\\Iris Reitsma\\Documents\\Master\\jaar 2\\stage\\validatie\\sarphati_2020_treegrowth.csv\")\n",
    "df_sarphati_treegrowth_pol = pd.read_csv(r\"C:\\Users\\Iris Reitsma\\Documents\\Master\\jaar 2\\stage\\validatie\\sarphati_treegrowth_polygonen.csv\")\n",
    "id_sarphati_treegrowth_pol = []\n",
    "for i, row in df_sarphati_treegrowth_pol.iterrows():\n",
    "    number = row['uid'][3:9]\n",
    "    id_sarphati_treegrowth_pol.append(int(number))\n",
    "df_sarphati_treegrowth_pol_2 = df_sarphati_treegrowth[df_sarphati_treegrowth['number'].isin(id_sarphati_treegrowth_pol)]"
   ]
  },
  {
   "cell_type": "code",
   "execution_count": 14,
   "metadata": {},
   "outputs": [],
   "source": [
    "# retrieve results from point intersection\n",
    "sarphati_static_points = np.load(r\"C:\\Users\\Iris Reitsma\\Documents\\Master\\jaar 2\\stage\\validatie\\sarphati_static_punten.npy\")\n",
    "sarphati_treedict_points = np.load(r\"C:\\Users\\Iris Reitsma\\Documents\\Master\\jaar 2\\stage\\validatie\\sarphati_treedict_punten.npy\")\n",
    "sarphati_treegrowth_points = np.load(r\"C:\\Users\\Iris Reitsma\\Documents\\Master\\jaar 2\\stage\\validatie\\sarphati_treegrowth_punten.npy\")"
   ]
  },
  {
   "cell_type": "code",
   "execution_count": 15,
   "metadata": {},
   "outputs": [
    {
     "name": "stdout",
     "output_type": "stream",
     "text": [
      "[-0.03333333  0.03777778  0.10888889  0.18        0.25111111  0.32222222\n",
      "  0.39333333  0.46444444  0.53555556  0.60666667  0.67777778  0.74888889\n",
      "  0.82        0.89111111  0.96222222  1.03333333]\n"
     ]
    },
    {
     "data": {
      "image/png": "[encoded data removed]",
      "text/plain": [
       "<Figure size 720x216 with 3 Axes>"
      ]
     },
     "metadata": {
      "needs_background": "light"
     },
     "output_type": "display_data"
    }
   ],
   "source": [
    "xlim = (0.2-1/30, 1+1/30)\n",
    "area = 'sarphati'\n",
    "plotfunc(df_sarphati_static_pol_2 , df_sarphati_treedict_pol_2 , df_sarphati_treegrowth_pol_2, sarphati_static_points, sarphati_treedict_points, sarphati_treegrowth_points, xlim, area)"
   ]
  }
 ],
 "metadata": {
  "kernelspec": {
   "display_name": "Python 3",
   "language": "python",
   "name": "python3"
  },
  "language_info": {
   "codemirror_mode": {
    "name": "ipython",
    "version": 3
   },
   "file_extension": ".py",
   "mimetype": "text/x-python",
   "name": "python",
   "nbconvert_exporter": "python",
   "pygments_lexer": "ipython3",
   "version": "3.8.5"
  }
 },
 "nbformat": 4,
 "nbformat_minor": 4
}
