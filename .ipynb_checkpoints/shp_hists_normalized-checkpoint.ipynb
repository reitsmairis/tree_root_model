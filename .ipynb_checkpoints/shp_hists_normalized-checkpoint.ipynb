{
 "cells": [
  {
   "cell_type": "code",
   "execution_count": 1,
   "metadata": {},
   "outputs": [],
   "source": [
    "import json\n",
    "import numpy as np\n",
    "import pandas as pd\n",
    "import matplotlib.pyplot as plt\n",
    "from matplotlib import cm\n",
    "from matplotlib.patches import Patch\n",
    "from matplotlib.lines import Line2D"
   ]
  },
  {
   "cell_type": "code",
   "execution_count": 2,
   "metadata": {},
   "outputs": [],
   "source": [
    "def plotnormalize(normalize_static, normalize_treedict, normalize_treegrowth, xlim, area):\n",
    "\n",
    "    \n",
    "    fig, axs = plt.subplots(1, 3, sharex=True, sharey=True, figsize=(10,3))\n",
    "    \n",
    "    axs[1].bar(normalize_treedict.keys(), normalize_treedict, width=1/15, color='C2')\n",
    "    axs[1].set_title('tree dictionary')\n",
    "    axs[1].set_xlabel('intersection score', fontsize=14)\n",
    "\n",
    "    axs[0].bar(normalize_static.keys(), normalize_static,  width=1/15, color='C2')\n",
    "    axs[0].set_ylabel('normalized frequency', fontsize=14)\n",
    "    axs[0].set_title('static')\n",
    "    axs[0].set_xlabel('intersection score', fontsize=14)\n",
    "    \n",
    "    axs[2].bar(normalize_treegrowth.keys(), normalize_treegrowth,  width=1/15, color='C2')\n",
    "    axs[2].set_title('tree growth')\n",
    "    axs[2].set_xlabel('intersection score', fontsize=14)\n",
    "\n",
    "    plt.xlim(xlim[0], xlim[1])\n",
    "    plt.tight_layout()\n",
    "#     fig.autofmt_xdate()\n",
    "    plt.savefig('plots/hists_normalized_{}'.format(area), dpi=300)\n",
    "    plt.show()"
   ]
  },
  {
   "cell_type": "markdown",
   "metadata": {},
   "source": [
    "# Wallengebied"
   ]
  },
  {
   "cell_type": "code",
   "execution_count": 3,
   "metadata": {},
   "outputs": [
    {
     "data": {
      "text/html": [
       "<div>\n",
       "<style scoped>\n",
       "    .dataframe tbody tr th:only-of-type {\n",
       "        vertical-align: middle;\n",
       "    }\n",
       "\n",
       "    .dataframe tbody tr th {\n",
       "        vertical-align: top;\n",
       "    }\n",
       "\n",
       "    .dataframe thead th {\n",
       "        text-align: right;\n",
       "    }\n",
       "</style>\n",
       "<table border=\"1\" class=\"dataframe\">\n",
       "  <thead>\n",
       "    <tr style=\"text-align: right;\">\n",
       "      <th></th>\n",
       "      <th>uid</th>\n",
       "      <th>type</th>\n",
       "      <th>parents</th>\n",
       "      <th>children</th>\n",
       "      <th>attribute.function</th>\n",
       "    </tr>\n",
       "  </thead>\n",
       "  <tbody>\n",
       "    <tr>\n",
       "      <th>0</th>\n",
       "      <td>id-339738_marginal</td>\n",
       "      <td>SolitaryVegetationObject</td>\n",
       "      <td>NaN</td>\n",
       "      <td>NaN</td>\n",
       "      <td>something</td>\n",
       "    </tr>\n",
       "    <tr>\n",
       "      <th>1</th>\n",
       "      <td>id-348099_marginal</td>\n",
       "      <td>SolitaryVegetationObject</td>\n",
       "      <td>NaN</td>\n",
       "      <td>NaN</td>\n",
       "      <td>something</td>\n",
       "    </tr>\n",
       "    <tr>\n",
       "      <th>2</th>\n",
       "      <td>id-339736_marginal</td>\n",
       "      <td>SolitaryVegetationObject</td>\n",
       "      <td>NaN</td>\n",
       "      <td>NaN</td>\n",
       "      <td>something</td>\n",
       "    </tr>\n",
       "    <tr>\n",
       "      <th>3</th>\n",
       "      <td>id-348098_marginal</td>\n",
       "      <td>SolitaryVegetationObject</td>\n",
       "      <td>NaN</td>\n",
       "      <td>NaN</td>\n",
       "      <td>something</td>\n",
       "    </tr>\n",
       "    <tr>\n",
       "      <th>4</th>\n",
       "      <td>id-339969_marginal</td>\n",
       "      <td>SolitaryVegetationObject</td>\n",
       "      <td>NaN</td>\n",
       "      <td>NaN</td>\n",
       "      <td>something</td>\n",
       "    </tr>\n",
       "    <tr>\n",
       "      <th>...</th>\n",
       "      <td>...</td>\n",
       "      <td>...</td>\n",
       "      <td>...</td>\n",
       "      <td>...</td>\n",
       "      <td>...</td>\n",
       "    </tr>\n",
       "    <tr>\n",
       "      <th>195</th>\n",
       "      <td>id-347649_marginal</td>\n",
       "      <td>SolitaryVegetationObject</td>\n",
       "      <td>NaN</td>\n",
       "      <td>NaN</td>\n",
       "      <td>something</td>\n",
       "    </tr>\n",
       "    <tr>\n",
       "      <th>196</th>\n",
       "      <td>id-340202_marginal</td>\n",
       "      <td>SolitaryVegetationObject</td>\n",
       "      <td>NaN</td>\n",
       "      <td>NaN</td>\n",
       "      <td>something</td>\n",
       "    </tr>\n",
       "    <tr>\n",
       "      <th>197</th>\n",
       "      <td>id-340200_marginal</td>\n",
       "      <td>SolitaryVegetationObject</td>\n",
       "      <td>NaN</td>\n",
       "      <td>NaN</td>\n",
       "      <td>something</td>\n",
       "    </tr>\n",
       "    <tr>\n",
       "      <th>198</th>\n",
       "      <td>id-347172_marginal</td>\n",
       "      <td>SolitaryVegetationObject</td>\n",
       "      <td>NaN</td>\n",
       "      <td>NaN</td>\n",
       "      <td>something</td>\n",
       "    </tr>\n",
       "    <tr>\n",
       "      <th>199</th>\n",
       "      <td>id-339742_marginal</td>\n",
       "      <td>SolitaryVegetationObject</td>\n",
       "      <td>NaN</td>\n",
       "      <td>NaN</td>\n",
       "      <td>something</td>\n",
       "    </tr>\n",
       "  </tbody>\n",
       "</table>\n",
       "<p>200 rows × 5 columns</p>\n",
       "</div>"
      ],
      "text/plain": [
       "                    uid                      type  parents  children  \\\n",
       "0    id-339738_marginal  SolitaryVegetationObject      NaN       NaN   \n",
       "1    id-348099_marginal  SolitaryVegetationObject      NaN       NaN   \n",
       "2    id-339736_marginal  SolitaryVegetationObject      NaN       NaN   \n",
       "3    id-348098_marginal  SolitaryVegetationObject      NaN       NaN   \n",
       "4    id-339969_marginal  SolitaryVegetationObject      NaN       NaN   \n",
       "..                  ...                       ...      ...       ...   \n",
       "195  id-347649_marginal  SolitaryVegetationObject      NaN       NaN   \n",
       "196  id-340202_marginal  SolitaryVegetationObject      NaN       NaN   \n",
       "197  id-340200_marginal  SolitaryVegetationObject      NaN       NaN   \n",
       "198  id-347172_marginal  SolitaryVegetationObject      NaN       NaN   \n",
       "199  id-339742_marginal  SolitaryVegetationObject      NaN       NaN   \n",
       "\n",
       "    attribute.function  \n",
       "0            something  \n",
       "1            something  \n",
       "2            something  \n",
       "3            something  \n",
       "4            something  \n",
       "..                 ...  \n",
       "195          something  \n",
       "196          something  \n",
       "197          something  \n",
       "198          something  \n",
       "199          something  \n",
       "\n",
       "[200 rows x 5 columns]"
      ]
     },
     "metadata": {},
     "output_type": "display_data"
    }
   ],
   "source": [
    "# retrieve static method shapefile results and merge on id\n",
    "df_wallen_static = pd.read_csv(r\"C:\\Users\\Iris Reitsma\\Documents\\Master\\jaar 2\\stage\\validatie\\wallengebied_2020_static.csv\")\n",
    "df_wallen_static_pol = pd.read_csv(r\"C:\\Users\\Iris Reitsma\\Documents\\Master\\jaar 2\\stage\\validatie\\wallen_static_polygonen.csv\")\n",
    "display(df_wallen_static_pol)\n",
    "id_wallen_static_pol = []\n",
    "for i, row in df_wallen_static_pol.iterrows():\n",
    "    number = row['uid'][3:9]\n",
    "    id_wallen_static_pol.append(int(number))\n",
    "df_wallen_static_pol_2 = df_wallen_static[df_wallen_static['number'].isin(id_wallen_static_pol)]\n",
    "\n",
    "# normalize counts\n",
    "occurence_wallen_static = df_wallen_static['count'].value_counts()\n",
    "occurence_shapefiles_static = df_wallen_static_pol_2['count'].value_counts()\n",
    "normalize_static_wallen = occurence_shapefiles_static / occurence_wallen_static"
   ]
  },
  {
   "cell_type": "code",
   "execution_count": 4,
   "metadata": {},
   "outputs": [],
   "source": [
    "# retrieve treedict method shapefile results and merge on id\n",
    "df_wallen_treedict = pd.read_csv(r\"C:\\Users\\Iris Reitsma\\Documents\\Master\\jaar 2\\stage\\validatie\\wallengebied_2020_treedict.csv\")\n",
    "df_wallen_treedict_pol = pd.read_csv(r\"C:\\Users\\Iris Reitsma\\Documents\\Master\\jaar 2\\stage\\validatie\\wallen_treedict_polygonen.csv\")\n",
    "id_wallen_treedict_pol = []\n",
    "for i, row in df_wallen_treedict_pol.iterrows():\n",
    "    number = row['uid'][3:9]\n",
    "    id_wallen_treedict_pol.append(int(number))\n",
    "df_wallen_treedict_pol_2 = df_wallen_treedict[df_wallen_treedict['number'].isin(id_wallen_treedict_pol)]\n",
    "\n",
    "\n",
    "# normalize counts\n",
    "occurence_wallen_treedict = df_wallen_treedict['count'].value_counts()\n",
    "occurence_shapefiles_treedict = df_wallen_treedict_pol_2['count'].value_counts()\n",
    "normalize_treedict_wallen = occurence_shapefiles_treedict / occurence_wallen_treedict"
   ]
  },
  {
   "cell_type": "code",
   "execution_count": 5,
   "metadata": {},
   "outputs": [],
   "source": [
    "# retrieve treegrowth method shapefile results and merge on id\n",
    "df_wallen_treegrowth = pd.read_csv(r\"C:\\Users\\Iris Reitsma\\Documents\\Master\\jaar 2\\stage\\validatie\\wallengebied_2020_treegrowth.csv\")\n",
    "df_wallen_treegrowth_pol = pd.read_csv(r\"C:\\Users\\Iris Reitsma\\Documents\\Master\\jaar 2\\stage\\validatie\\wallen_treegrowth_polygonen.csv\")\n",
    "id_wallen_treegrowth_pol = []\n",
    "for i, row in df_wallen_treegrowth_pol.iterrows():\n",
    "    number = row['uid'][3:9]\n",
    "    id_wallen_treegrowth_pol.append(int(number))\n",
    "df_wallen_treegrowth_pol_2 = df_wallen_treegrowth[df_wallen_treegrowth['number'].isin(id_wallen_treegrowth_pol)]\n",
    "\n",
    "\n",
    "# normalize counts\n",
    "occurence_wallen_treegrowth = df_wallen_treegrowth['count'].value_counts()\n",
    "occurence_shapefiles_treegrowth = df_wallen_treegrowth_pol_2['count'].value_counts()\n",
    "normalize_treegrowth_wallen = occurence_shapefiles_treegrowth / occurence_wallen_treegrowth"
   ]
  },
  {
   "cell_type": "code",
   "execution_count": 6,
   "metadata": {},
   "outputs": [],
   "source": [
    "# retrieve results from point intersection\n",
    "wallen_static_points = np.load(r\"C:\\Users\\Iris Reitsma\\Documents\\Master\\jaar 2\\stage\\validatie\\wallen_static_punten.npy\")\n",
    "wallen_treedict_points = np.load(r\"C:\\Users\\Iris Reitsma\\Documents\\Master\\jaar 2\\stage\\validatie\\wallen_treedict_punten.npy\")\n",
    "wallen_treegrowth_points = np.load(r\"C:\\Users\\Iris Reitsma\\Documents\\Master\\jaar 2\\stage\\validatie\\wallen_treegrowth_punten.npy\")"
   ]
  },
  {
   "cell_type": "code",
   "execution_count": 7,
   "metadata": {},
   "outputs": [
    {
     "data": {
      "image/png": "[encoded data removed]",
      "text/plain": [
       "<Figure size 720x216 with 3 Axes>"
      ]
     },
     "metadata": {
      "needs_background": "light"
     },
     "output_type": "display_data"
    }
   ],
   "source": [
    "xlim = (0.2-1/30, 1+1/30)\n",
    "area = 'wallen'\n",
    "plotnormalize(normalize_static_wallen, normalize_treedict_wallen, normalize_treegrowth_wallen, xlim, area)\n"
   ]
  },
  {
   "cell_type": "markdown",
   "metadata": {},
   "source": [
    "# IJburg"
   ]
  },
  {
   "cell_type": "code",
   "execution_count": 8,
   "metadata": {},
   "outputs": [],
   "source": [
    "# retrieve static method shapefile results and merge on id\n",
    "df_ijburg_static = pd.read_csv(r\"C:\\Users\\Iris Reitsma\\Documents\\Master\\jaar 2\\stage\\validatie\\ijburg_2020_static.csv\")\n",
    "df_ijburg_static_pol = pd.read_csv(r\"C:\\Users\\Iris Reitsma\\Documents\\Master\\jaar 2\\stage\\validatie\\ijburg_static_polygonen.csv\")\n",
    "id_ijburg_static_pol = []\n",
    "for i, row in df_ijburg_static_pol.iterrows():\n",
    "    number = row['uid'][3:9]\n",
    "    id_ijburg_static_pol.append(int(number))\n",
    "df_ijburg_static_pol_2 = df_ijburg_static[df_ijburg_static['number'].isin(id_ijburg_static_pol)]\n",
    "\n",
    "# normalize counts\n",
    "occurence_ijburg_static = df_ijburg_static['count'].value_counts()\n",
    "occurence_shapefiles_static = df_ijburg_static_pol_2['count'].value_counts()\n",
    "normalize_static_ijburg = occurence_shapefiles_static / occurence_ijburg_static\n",
    "\n",
    "# retrieve treedict method shapefile results and merge on id\n",
    "df_ijburg_treedict = pd.read_csv(r\"C:\\Users\\Iris Reitsma\\Documents\\Master\\jaar 2\\stage\\validatie\\ijburg_2020_treedict.csv\")\n",
    "df_ijburg_treedict_pol = pd.read_csv(r\"C:\\Users\\Iris Reitsma\\Documents\\Master\\jaar 2\\stage\\validatie\\ijburg_treedict_polygonen.csv\")\n",
    "id_ijburg_treedict_pol = []\n",
    "for i, row in df_ijburg_treedict_pol.iterrows():\n",
    "    number = row['uid'][3:9]\n",
    "    id_ijburg_treedict_pol.append(int(number))\n",
    "df_ijburg_treedict_pol_2 = df_ijburg_treedict[df_ijburg_treedict['number'].isin(id_ijburg_treedict_pol)]\n",
    "\n",
    "# normalize counts\n",
    "occurence_ijburg_treedict = df_ijburg_treedict['count'].value_counts()\n",
    "occurence_shapefiles_treedict = df_ijburg_treedict_pol_2['count'].value_counts()\n",
    "normalize_treedict_ijburg = occurence_shapefiles_treedict / occurence_ijburg_treedict\n",
    "\n",
    "# retrieve treegrowth method shapefile results and merge on id\n",
    "df_ijburg_treegrowth = pd.read_csv(r\"C:\\Users\\Iris Reitsma\\Documents\\Master\\jaar 2\\stage\\validatie\\ijburg_2020_treegrowth.csv\")\n",
    "df_ijburg_treegrowth_pol = pd.read_csv(r\"C:\\Users\\Iris Reitsma\\Documents\\Master\\jaar 2\\stage\\validatie\\ijburg_treegrowth_polygonen.csv\")\n",
    "id_ijburg_treegrowth_pol = []\n",
    "for i, row in df_ijburg_treegrowth_pol.iterrows():\n",
    "    number = row['uid'][3:9]\n",
    "    id_ijburg_treegrowth_pol.append(int(number))\n",
    "df_ijburg_treegrowth_pol_2 = df_ijburg_treegrowth[df_ijburg_treegrowth['number'].isin(id_ijburg_treegrowth_pol)]\n",
    "\n",
    "# normalize counts\n",
    "occurence_ijburg_treegrowth = df_ijburg_treegrowth['count'].value_counts()\n",
    "occurence_shapefiles_treegrowth = df_ijburg_treegrowth_pol_2['count'].value_counts()\n",
    "normalize_treegrowth_ijburg = occurence_shapefiles_treegrowth / occurence_ijburg_treegrowth"
   ]
  },
  {
   "cell_type": "code",
   "execution_count": 9,
   "metadata": {},
   "outputs": [],
   "source": [
    "# retrieve results from point intersection\n",
    "ijburg_static_points = np.load(r\"C:\\Users\\Iris Reitsma\\Documents\\Master\\jaar 2\\stage\\validatie\\ijburg_static_punten.npy\")\n",
    "ijburg_treedict_points = np.load(r\"C:\\Users\\Iris Reitsma\\Documents\\Master\\jaar 2\\stage\\validatie\\ijburg_treedict_punten.npy\")\n",
    "ijburg_treegrowth_points = np.load(r\"C:\\Users\\Iris Reitsma\\Documents\\Master\\jaar 2\\stage\\validatie\\ijburg_treegrowth_punten.npy\")\n"
   ]
  },
  {
   "cell_type": "code",
   "execution_count": 10,
   "metadata": {},
   "outputs": [
    {
     "data": {
      "image/png": "[encoded data removed]",
      "text/plain": [
       "<Figure size 720x216 with 3 Axes>"
      ]
     },
     "metadata": {
      "needs_background": "light"
     },
     "output_type": "display_data"
    }
   ],
   "source": [
    "xlim = (0.2-1/30, 1+1/30)\n",
    "area = 'ijburg'\n",
    "plotnormalize(normalize_static_ijburg, normalize_treedict_ijburg, normalize_treegrowth_ijburg, xlim, area)\n"
   ]
  },
  {
   "cell_type": "markdown",
   "metadata": {},
   "source": [
    "# Sarphatipark\n"
   ]
  },
  {
   "cell_type": "code",
   "execution_count": 11,
   "metadata": {},
   "outputs": [],
   "source": [
    "# retrieve static method shapefile results and merge on id\n",
    "df_sarphati_static = pd.read_csv(r\"C:\\Users\\Iris Reitsma\\Documents\\Master\\jaar 2\\stage\\validatie\\sarphati_2020_static.csv\")\n",
    "df_sarphati_static_pol = pd.read_csv(r\"C:\\Users\\Iris Reitsma\\Documents\\Master\\jaar 2\\stage\\validatie\\sarphati_static_polygonen.csv\")\n",
    "id_sarphati_static_pol = []\n",
    "for i, row in df_sarphati_static_pol.iterrows():\n",
    "    number = row['uid'][3:9]\n",
    "    id_sarphati_static_pol.append(int(number))\n",
    "df_sarphati_static_pol_2 = df_sarphati_static[df_sarphati_static['number'].isin(id_sarphati_static_pol)]\n",
    "\n",
    "# normalize counts\n",
    "occurence_sarphati_static = df_sarphati_static['count'].value_counts()\n",
    "occurence_shapefiles_static = df_sarphati_static_pol_2['count'].value_counts()\n",
    "normalize_static_sarphati = occurence_shapefiles_static / occurence_sarphati_static\n",
    "\n",
    "# retrieve treedict method shapefile results and merge on id\n",
    "df_sarphati_treedict = pd.read_csv(r\"C:\\Users\\Iris Reitsma\\Documents\\Master\\jaar 2\\stage\\validatie\\sarphati_2020_treedict.csv\")\n",
    "df_sarphati_treedict_pol = pd.read_csv(r\"C:\\Users\\Iris Reitsma\\Documents\\Master\\jaar 2\\stage\\validatie\\sarphati_treedict_polygonen.csv\")\n",
    "id_sarphati_treedict_pol = []\n",
    "for i, row in df_sarphati_treedict_pol.iterrows():\n",
    "    number = row['uid'][3:9]\n",
    "    id_sarphati_treedict_pol.append(int(number))\n",
    "df_sarphati_treedict_pol_2 = df_sarphati_treedict[df_sarphati_treedict['number'].isin(id_sarphati_treedict_pol)]\n",
    "\n",
    "# normalize counts\n",
    "occurence_sarphati_treedict = df_sarphati_treedict['count'].value_counts()\n",
    "occurence_shapefiles_treedict = df_sarphati_treedict_pol_2['count'].value_counts()\n",
    "normalize_treedict_sarphati = occurence_shapefiles_treedict / occurence_sarphati_treedict\n",
    "\n",
    "# retrieve treegrowth method shapefile results and merge on id\n",
    "df_sarphati_treegrowth = pd.read_csv(r\"C:\\Users\\Iris Reitsma\\Documents\\Master\\jaar 2\\stage\\validatie\\sarphati_2020_treegrowth.csv\")\n",
    "df_sarphati_treegrowth_pol = pd.read_csv(r\"C:\\Users\\Iris Reitsma\\Documents\\Master\\jaar 2\\stage\\validatie\\sarphati_treegrowth_polygonen.csv\")\n",
    "id_sarphati_treegrowth_pol = []\n",
    "for i, row in df_sarphati_treegrowth_pol.iterrows():\n",
    "    number = row['uid'][3:9]\n",
    "    id_sarphati_treegrowth_pol.append(int(number))\n",
    "df_sarphati_treegrowth_pol_2 = df_sarphati_treegrowth[df_sarphati_treegrowth['number'].isin(id_sarphati_treegrowth_pol)]\n",
    "\n",
    "# normalize counts\n",
    "occurence_sarphati_treegrowth = df_sarphati_treegrowth['count'].value_counts()\n",
    "occurence_shapefiles_treegrowth = df_sarphati_treegrowth_pol_2['count'].value_counts()\n",
    "normalize_treegrowth_sarphati = occurence_shapefiles_treegrowth / occurence_sarphati_treegrowth"
   ]
  },
  {
   "cell_type": "code",
   "execution_count": 12,
   "metadata": {},
   "outputs": [],
   "source": [
    "# retrieve results from point intersection\n",
    "sarphati_static_points = np.load(r\"C:\\Users\\Iris Reitsma\\Documents\\Master\\jaar 2\\stage\\validatie\\sarphati_static_punten.npy\")\n",
    "sarphati_treedict_points = np.load(r\"C:\\Users\\Iris Reitsma\\Documents\\Master\\jaar 2\\stage\\validatie\\sarphati_treedict_punten.npy\")\n",
    "sarphati_treegrowth_points = np.load(r\"C:\\Users\\Iris Reitsma\\Documents\\Master\\jaar 2\\stage\\validatie\\sarphati_treegrowth_punten.npy\")"
   ]
  },
  {
   "cell_type": "code",
   "execution_count": 13,
   "metadata": {},
   "outputs": [
    {
     "data": {
      "image/png": "[encoded data removed]",
      "text/plain": [
       "<Figure size 720x216 with 3 Axes>"
      ]
     },
     "metadata": {
      "needs_background": "light"
     },
     "output_type": "display_data"
    }
   ],
   "source": [
    "xlim = (0.2-1/30, 1+1/30)\n",
    "area = 'sarphati'\n",
    "plotnormalize(normalize_static_sarphati, normalize_treedict_sarphati, normalize_treegrowth_sarphati, xlim, area)\n"
   ]
  }
 ],
 "metadata": {
  "kernelspec": {
   "display_name": "Python 3",
   "language": "python",
   "name": "python3"
  },
  "language_info": {
   "codemirror_mode": {
    "name": "ipython",
    "version": 3
   },
   "file_extension": ".py",
   "mimetype": "text/x-python",
   "name": "python",
   "nbconvert_exporter": "python",
   "pygments_lexer": "ipython3",
   "version": "3.8.5"
  }
 },
 "nbformat": 4,
 "nbformat_minor": 4
}
