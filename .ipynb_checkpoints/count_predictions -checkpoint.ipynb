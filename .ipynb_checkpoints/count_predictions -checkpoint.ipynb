{
 "cells": [
  {
   "cell_type": "code",
   "execution_count": 9,
   "metadata": {},
   "outputs": [],
   "source": [
    "import numpy as np\n",
    "import pandas as pd"
   ]
  },
  {
   "cell_type": "code",
   "execution_count": 10,
   "metadata": {},
   "outputs": [],
   "source": [
    "wallen_static = len(np.load(r\"C:\\Users\\Iris Reitsma\\Documents\\Master\\jaar 2\\stage\\root_model\\output\\numpy_files\\Wallengebied_static_rdx.npy\")[0])\n",
    "wallen_treedict = len(np.load(r\"C:\\Users\\Iris Reitsma\\Documents\\Master\\jaar 2\\stage\\root_model\\output\\numpy_files\\Wallengebied_treedict_rdx.npy\")[0])\n",
    "wallen_treegrowth = len(np.load(r\"C:\\Users\\Iris Reitsma\\Documents\\Master\\jaar 2\\stage\\root_model\\output\\numpy_files\\Wallengebied_treegrowth_rdx.npy\")[0])\n",
    "total_wallen = len(pd.read_csv(r\"C:\\Users\\Iris Reitsma\\Documents\\Master\\jaar 2\\stage\\root_model\\data\\wallengebied_trees.csv\"))"
   ]
  },
  {
   "cell_type": "code",
   "execution_count": 16,
   "metadata": {},
   "outputs": [
    {
     "name": "stdout",
     "output_type": "stream",
     "text": [
      "Wallengebied:\n",
      "static: 693 63.1 %\n",
      "treedict 783 71.2 %\n",
      "treegrowth 747 68.0 %\n",
      "total trees 1099\n"
     ]
    }
   ],
   "source": [
    "print('Wallengebied:')\n",
    "print('static:', wallen_static, round(wallen_static/total_wallen*100, 1), '%')\n",
    "print('treedict', wallen_treedict, round(wallen_treedict/total_wallen*100, 1), '%')\n",
    "print('treegrowth', wallen_treegrowth, round(wallen_treegrowth/total_wallen*100, 1), '%')\n",
    "print('total trees', total_wallen)"
   ]
  },
  {
   "cell_type": "code",
   "execution_count": 17,
   "metadata": {},
   "outputs": [],
   "source": [
    "ijburg_static = len(np.load(r\"C:\\Users\\Iris Reitsma\\Documents\\Master\\jaar 2\\stage\\root_model\\output\\numpy_files\\IJburg_static_rdx.npy\")[0])\n",
    "ijburg_treedict = len(np.load(r\"C:\\Users\\Iris Reitsma\\Documents\\Master\\jaar 2\\stage\\root_model\\output\\numpy_files\\IJburg_treedict_rdx.npy\")[0])\n",
    "ijburg_treegrowth = len(np.load(r\"C:\\Users\\Iris Reitsma\\Documents\\Master\\jaar 2\\stage\\root_model\\output\\numpy_files\\IJburg_treegrowth_rdx.npy\")[0])\n",
    "total_ijburg = len(pd.read_csv(r\"C:\\Users\\Iris Reitsma\\Documents\\Master\\jaar 2\\stage\\root_model\\data\\ijburg_trees.csv\"))"
   ]
  },
  {
   "cell_type": "code",
   "execution_count": 20,
   "metadata": {},
   "outputs": [
    {
     "name": "stdout",
     "output_type": "stream",
     "text": [
      "IJburg:\n",
      "static: 1439 64.9 %\n",
      "treedict 1283 57.9 %\n",
      "treegrowth 1074 48.5 %\n",
      "total trees 2216\n"
     ]
    }
   ],
   "source": [
    "print('IJburg:')\n",
    "print('static:', ijburg_static, round(ijburg_static/total_ijburg*100, 1), '%')\n",
    "print('treedict', ijburg_treedict, round(ijburg_treedict/total_ijburg*100, 1), '%')\n",
    "print('treegrowth', ijburg_treegrowth, round(ijburg_treegrowth/total_ijburg*100, 1), '%')\n",
    "print('total trees', total_ijburg)"
   ]
  },
  {
   "cell_type": "code",
   "execution_count": 24,
   "metadata": {},
   "outputs": [],
   "source": [
    "sarphati_static = len(np.load(r\"C:\\Users\\Iris Reitsma\\Documents\\Master\\jaar 2\\stage\\root_model\\output\\numpy_files\\Sarphati_static_rdx.npy\")[0])\n",
    "sarphati_treedict = len(np.load(r\"C:\\Users\\Iris Reitsma\\Documents\\Master\\jaar 2\\stage\\root_model\\output\\numpy_files\\Sarphati_treedict_rdx.npy\")[0])\n",
    "sarphati_treegrowth = len(np.load(r\"C:\\Users\\Iris Reitsma\\Documents\\Master\\jaar 2\\stage\\root_model\\output\\numpy_files\\Sarphati_treegrowth_rdx.npy\")[0])\n",
    "total_sarphati = len(pd.read_csv(r\"C:\\Users\\Iris Reitsma\\Documents\\Master\\jaar 2\\stage\\root_model\\data\\sarphati_trees.csv\"))"
   ]
  },
  {
   "cell_type": "code",
   "execution_count": 26,
   "metadata": {},
   "outputs": [
    {
     "name": "stdout",
     "output_type": "stream",
     "text": [
      "Sarphati:\n",
      "static: 349 68.8 %\n",
      "treedict 293 57.8 %\n",
      "treegrowth 286 56.4 %\n",
      "total trees 507\n"
     ]
    }
   ],
   "source": [
    "print('Sarphati:')\n",
    "print('static:', sarphati_static, round(sarphati_static/total_sarphati*100, 1), '%')\n",
    "print('treedict', sarphati_treedict, round(sarphati_treedict/total_sarphati*100, 1), '%')\n",
    "print('treegrowth', sarphati_treegrowth, round(sarphati_treegrowth/total_sarphati*100, 1), '%')\n",
    "print('total trees', total_sarphati)"
   ]
  },
  {
   "cell_type": "code",
   "execution_count": 27,
   "metadata": {},
   "outputs": [],
   "source": [
    "total_static = wallen_static + ijburg_static + sarphati_static\n",
    "total_treedict = wallen_treedict + ijburg_treedict + sarphati_treedict\n",
    "total_treegrowth = wallen_treegrowth + ijburg_treegrowth + sarphati_treegrowth\n",
    "total_trees = total_wallen + total_ijburg + total_sarphati"
   ]
  },
  {
   "cell_type": "code",
   "execution_count": 29,
   "metadata": {},
   "outputs": [
    {
     "name": "stdout",
     "output_type": "stream",
     "text": [
      "Total:\n",
      "static: 2481 64.9 %\n",
      "treedict 2359 61.7 %\n",
      "treegrowth 2107 55.1 %\n",
      "total trees 3822\n"
     ]
    }
   ],
   "source": [
    "print('Total:')\n",
    "print('static:', total_static, round(total_static/total_trees*100, 1), '%')\n",
    "print('treedict', total_treedict, round(total_treedict/total_trees*100, 1), '%')\n",
    "print('treegrowth', total_treegrowth, round(total_treegrowth/total_trees*100, 1), '%')\n",
    "print('total trees', total_trees)"
   ]
  }
 ],
 "metadata": {
  "kernelspec": {
   "display_name": "Python 3",
   "language": "python",
   "name": "python3"
  },
  "language_info": {
   "codemirror_mode": {
    "name": "ipython",
    "version": 3
   },
   "file_extension": ".py",
   "mimetype": "text/x-python",
   "name": "python",
   "nbconvert_exporter": "python",
   "pygments_lexer": "ipython3",
   "version": "3.8.5"
  }
 },
 "nbformat": 4,
 "nbformat_minor": 4
}
